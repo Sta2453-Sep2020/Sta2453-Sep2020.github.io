{
 "cells": [
  {
   "cell_type": "markdown",
   "metadata": {
    "slideshow": {
     "slide_type": "slide"
    }
   },
   "source": [
    "# STA2453 - Class 2\n",
    "\n",
    "## September 24, 2019\n",
    "\n",
    "### Linear Regression"
   ]
  },
  {
   "cell_type": "markdown",
   "metadata": {
    "slideshow": {
     "slide_type": "slide"
    }
   },
   "source": [
    "![](bikeshare1.png)\n",
    "\n",
    "<https://bikesharetoronto.com>"
   ]
  },
  {
   "cell_type": "markdown",
   "metadata": {
    "slideshow": {
     "slide_type": "slide"
    }
   },
   "source": [
    "# Open Toronto Data\n",
    "\n",
    "[Bike Share Ridership Data](https://open.toronto.ca/dataset/bike-share-toronto-ridership-data/)"
   ]
  },
  {
   "cell_type": "code",
   "execution_count": 2,
   "metadata": {
    "slideshow": {
     "slide_type": "slide"
    }
   },
   "outputs": [
    {
     "data": {
      "text/html": [
       "<div>\n",
       "<style scoped>\n",
       "    .dataframe tbody tr th:only-of-type {\n",
       "        vertical-align: middle;\n",
       "    }\n",
       "\n",
       "    .dataframe tbody tr th {\n",
       "        vertical-align: top;\n",
       "    }\n",
       "\n",
       "    .dataframe thead th {\n",
       "        text-align: right;\n",
       "    }\n",
       "</style>\n",
       "<table border=\"1\" class=\"dataframe\">\n",
       "  <thead>\n",
       "    <tr style=\"text-align: right;\">\n",
       "      <th></th>\n",
       "      <th>trip_id</th>\n",
       "      <th>trip_start_time</th>\n",
       "      <th>trip_stop_time</th>\n",
       "      <th>trip_duration_seconds</th>\n",
       "      <th>from_station_id</th>\n",
       "      <th>from_station_name</th>\n",
       "      <th>to_station_id</th>\n",
       "      <th>to_station_name</th>\n",
       "      <th>user_type</th>\n",
       "    </tr>\n",
       "  </thead>\n",
       "  <tbody>\n",
       "    <tr>\n",
       "      <th>0</th>\n",
       "      <td>712382</td>\n",
       "      <td>1/1/2017 0:00</td>\n",
       "      <td>1/1/2017 0:03</td>\n",
       "      <td>223</td>\n",
       "      <td>7051</td>\n",
       "      <td>Wellesley St E / Yonge St Green P</td>\n",
       "      <td>7089</td>\n",
       "      <td>Church St  / Wood St</td>\n",
       "      <td>Member</td>\n",
       "    </tr>\n",
       "    <tr>\n",
       "      <th>1</th>\n",
       "      <td>712383</td>\n",
       "      <td>1/1/2017 0:00</td>\n",
       "      <td>1/1/2017 0:05</td>\n",
       "      <td>279</td>\n",
       "      <td>7143</td>\n",
       "      <td>Kendal Ave / Bernard Ave</td>\n",
       "      <td>7154</td>\n",
       "      <td>Bathurst Subway Station</td>\n",
       "      <td>Member</td>\n",
       "    </tr>\n",
       "    <tr>\n",
       "      <th>2</th>\n",
       "      <td>712384</td>\n",
       "      <td>1/1/2017 0:05</td>\n",
       "      <td>1/1/2017 0:29</td>\n",
       "      <td>1394</td>\n",
       "      <td>7113</td>\n",
       "      <td>Parliament St / Aberdeen Ave</td>\n",
       "      <td>7199</td>\n",
       "      <td>College St W / Markham St</td>\n",
       "      <td>Member</td>\n",
       "    </tr>\n",
       "    <tr>\n",
       "      <th>3</th>\n",
       "      <td>712385</td>\n",
       "      <td>1/1/2017 0:07</td>\n",
       "      <td>1/1/2017 0:21</td>\n",
       "      <td>826</td>\n",
       "      <td>7077</td>\n",
       "      <td>College Park South</td>\n",
       "      <td>7010</td>\n",
       "      <td>King St W / Spadina Ave</td>\n",
       "      <td>Member</td>\n",
       "    </tr>\n",
       "    <tr>\n",
       "      <th>4</th>\n",
       "      <td>712386</td>\n",
       "      <td>1/1/2017 0:08</td>\n",
       "      <td>1/1/2017 0:12</td>\n",
       "      <td>279</td>\n",
       "      <td>7079</td>\n",
       "      <td>McGill St / Church St</td>\n",
       "      <td>7047</td>\n",
       "      <td>University Ave / Gerrard St W</td>\n",
       "      <td>Member</td>\n",
       "    </tr>\n",
       "    <tr>\n",
       "      <th>5</th>\n",
       "      <td>712387</td>\n",
       "      <td>1/1/2017 0:12</td>\n",
       "      <td>1/1/2017 0:22</td>\n",
       "      <td>571</td>\n",
       "      <td>7021</td>\n",
       "      <td>Bay St / Albert St</td>\n",
       "      <td>7046</td>\n",
       "      <td>Niagara St / Richmond St W</td>\n",
       "      <td>Member</td>\n",
       "    </tr>\n",
       "    <tr>\n",
       "      <th>6</th>\n",
       "      <td>712388</td>\n",
       "      <td>1/1/2017 0:15</td>\n",
       "      <td>1/1/2017 0:33</td>\n",
       "      <td>1084</td>\n",
       "      <td>7161</td>\n",
       "      <td>Beverly St / College St W</td>\n",
       "      <td>7176</td>\n",
       "      <td>Bathurst St / Fort York Blvd</td>\n",
       "      <td>Member</td>\n",
       "    </tr>\n",
       "    <tr>\n",
       "      <th>7</th>\n",
       "      <td>712389</td>\n",
       "      <td>1/1/2017 0:15</td>\n",
       "      <td>1/1/2017 0:21</td>\n",
       "      <td>307</td>\n",
       "      <td>7195</td>\n",
       "      <td>Ulster St / Bathurst St</td>\n",
       "      <td>7037</td>\n",
       "      <td>Bathurst St / Dundas St W</td>\n",
       "      <td>Member</td>\n",
       "    </tr>\n",
       "    <tr>\n",
       "      <th>8</th>\n",
       "      <td>712390</td>\n",
       "      <td>1/1/2017 0:20</td>\n",
       "      <td>1/1/2017 0:31</td>\n",
       "      <td>647</td>\n",
       "      <td>7017</td>\n",
       "      <td>Widmer St / Adelaide St</td>\n",
       "      <td>7101</td>\n",
       "      <td>Lower Sherbourne St / The Esplanade</td>\n",
       "      <td>Member</td>\n",
       "    </tr>\n",
       "    <tr>\n",
       "      <th>9</th>\n",
       "      <td>712391</td>\n",
       "      <td>1/1/2017 0:23</td>\n",
       "      <td>1/1/2017 0:27</td>\n",
       "      <td>217</td>\n",
       "      <td>7017</td>\n",
       "      <td>Widmer St / Adelaide St</td>\n",
       "      <td>7005</td>\n",
       "      <td>University Ave / King St W</td>\n",
       "      <td>Member</td>\n",
       "    </tr>\n",
       "  </tbody>\n",
       "</table>\n",
       "</div>"
      ],
      "text/plain": [
       "   trip_id trip_start_time trip_stop_time  trip_duration_seconds  \\\n",
       "0   712382   1/1/2017 0:00  1/1/2017 0:03                    223   \n",
       "1   712383   1/1/2017 0:00  1/1/2017 0:05                    279   \n",
       "2   712384   1/1/2017 0:05  1/1/2017 0:29                   1394   \n",
       "3   712385   1/1/2017 0:07  1/1/2017 0:21                    826   \n",
       "4   712386   1/1/2017 0:08  1/1/2017 0:12                    279   \n",
       "5   712387   1/1/2017 0:12  1/1/2017 0:22                    571   \n",
       "6   712388   1/1/2017 0:15  1/1/2017 0:33                   1084   \n",
       "7   712389   1/1/2017 0:15  1/1/2017 0:21                    307   \n",
       "8   712390   1/1/2017 0:20  1/1/2017 0:31                    647   \n",
       "9   712391   1/1/2017 0:23  1/1/2017 0:27                    217   \n",
       "\n",
       "   from_station_id                  from_station_name  to_station_id  \\\n",
       "0             7051  Wellesley St E / Yonge St Green P           7089   \n",
       "1             7143           Kendal Ave / Bernard Ave           7154   \n",
       "2             7113       Parliament St / Aberdeen Ave           7199   \n",
       "3             7077                 College Park South           7010   \n",
       "4             7079              McGill St / Church St           7047   \n",
       "5             7021                 Bay St / Albert St           7046   \n",
       "6             7161          Beverly St / College St W           7176   \n",
       "7             7195            Ulster St / Bathurst St           7037   \n",
       "8             7017           Widmer St / Adelaide St            7101   \n",
       "9             7017           Widmer St / Adelaide St            7005   \n",
       "\n",
       "                       to_station_name user_type  \n",
       "0                 Church St  / Wood St    Member  \n",
       "1              Bathurst Subway Station    Member  \n",
       "2            College St W / Markham St    Member  \n",
       "3              King St W / Spadina Ave    Member  \n",
       "4        University Ave / Gerrard St W    Member  \n",
       "5           Niagara St / Richmond St W    Member  \n",
       "6         Bathurst St / Fort York Blvd    Member  \n",
       "7            Bathurst St / Dundas St W    Member  \n",
       "8  Lower Sherbourne St / The Esplanade    Member  \n",
       "9           University Ave / King St W    Member  "
      ]
     },
     "execution_count": 2,
     "metadata": {},
     "output_type": "execute_result"
    }
   ],
   "source": [
    "import pandas as pd \n",
    "\n",
    "# Data from Q1 of 2017\n",
    "\n",
    "q1_file = 'Bikeshare Ridership (2017 Q1).csv'\n",
    "q1 = pd.read_csv(q1_file)\n",
    "\n",
    "q1.head(10)"
   ]
  },
  {
   "cell_type": "markdown",
   "metadata": {
    "slideshow": {
     "slide_type": "slide"
    }
   },
   "source": [
    "# Question\n",
    "\n",
    "**Question:** Is the duration of a bike influenced by weather? For example, do Bike Share customers take longer bike rides in warmer weather? "
   ]
  },
  {
   "cell_type": "markdown",
   "metadata": {
    "slideshow": {
     "slide_type": "slide"
    }
   },
   "source": [
    "# Initial Look at Data ..."
   ]
  },
  {
   "cell_type": "code",
   "execution_count": 3,
   "metadata": {},
   "outputs": [
    {
     "name": "stdout",
     "output_type": "stream",
     "text": [
      "(132123, 9)\n"
     ]
    }
   ],
   "source": [
    "print(q1.shape)"
   ]
  },
  {
   "cell_type": "code",
   "execution_count": 4,
   "metadata": {},
   "outputs": [
    {
     "name": "stdout",
     "output_type": "stream",
     "text": [
      "24\n",
      "31\n",
      "3\n"
     ]
    }
   ],
   "source": [
    "t = pd.to_datetime(q1['trip_start_time'], format = '%d/%m/%Y %H:%M')\n",
    "# check 3 months, 24 hours and 31 days\n",
    "print(t.dt.hour.nunique())\n",
    "print(t.dt.day.nunique())\n",
    "print(t.dt.month.nunique())"
   ]
  },
  {
   "cell_type": "code",
   "execution_count": 5,
   "metadata": {},
   "outputs": [
    {
     "data": {
      "text/plain": [
       "<matplotlib.axes._subplots.AxesSubplot at 0x1142412b0>"
      ]
     },
     "execution_count": 5,
     "metadata": {},
     "output_type": "execute_result"
    }
   ],
   "source": [
    "t.dt.hour.hist(bins=10, color=\"grey\", edgecolor = \"black\")"
   ]
  },
  {
   "cell_type": "code",
   "execution_count": 6,
   "metadata": {
    "slideshow": {
     "slide_type": "slide"
    }
   },
   "outputs": [
    {
     "data": {
      "text/plain": [
       "0   2016-12-31 20:00:00\n",
       "1   2016-12-31 20:00:00\n",
       "2   2016-12-31 20:05:00\n",
       "3   2016-12-31 20:07:00\n",
       "4   2016-12-31 20:08:00\n",
       "5   2016-12-31 20:12:00\n",
       "6   2016-12-31 20:15:00\n",
       "7   2016-12-31 20:15:00\n",
       "8   2016-12-31 20:20:00\n",
       "9   2016-12-31 20:23:00\n",
       "Name: trip_start_time, dtype: datetime64[ns]"
      ]
     },
     "execution_count": 6,
     "metadata": {},
     "output_type": "execute_result"
    }
   ],
   "source": [
    "# but now we are including 2016  \n",
    "# and this isn't correct since in Nov. EST is\n",
    "# -1 hour due to daylight savings time\n",
    "\n",
    "import datetime as dt\n",
    "\n",
    "(t +  dt.timedelta(hours = -4))[0:10] "
   ]
  },
  {
   "cell_type": "code",
   "execution_count": 7,
   "metadata": {},
   "outputs": [],
   "source": [
    "#convert to EST\n",
    "t1 = pd.DatetimeIndex(t).tz_localize('UTC').tz_convert('US/Eastern')"
   ]
  },
  {
   "cell_type": "code",
   "execution_count": 8,
   "metadata": {},
   "outputs": [
    {
     "name": "stdout",
     "output_type": "stream",
     "text": [
      "24\n",
      "31\n",
      "4\n"
     ]
    }
   ],
   "source": [
    "print(t1.hour.nunique())\n",
    "print(t1.day.nunique())\n",
    "print(t1.month.nunique())"
   ]
  },
  {
   "cell_type": "code",
   "execution_count": 9,
   "metadata": {
    "slideshow": {
     "slide_type": "slide"
    }
   },
   "outputs": [
    {
     "data": {
      "text/plain": [
       "<matplotlib.axes._subplots.AxesSubplot at 0x11436fcc0>"
      ]
     },
     "execution_count": 9,
     "metadata": {},
     "output_type": "execute_result"
    },
    {
     "data": {
      "image/png": "[encoded data removed]",
      "text/plain": [
       "<Figure size 432x288 with 1 Axes>"
      ]
     },
     "metadata": {
      "needs_background": "light"
     },
     "output_type": "display_data"
    }
   ],
   "source": [
    "q1['trip_start_time'] = t1\n",
    "q1.groupby(q1['trip_start_time'].dt.hour)['trip_start_time'].count().plot(kind='bar')"
   ]
  },
  {
   "cell_type": "code",
   "execution_count": 10,
   "metadata": {},
   "outputs": [
    {
     "data": {
      "text/plain": [
       "<matplotlib.axes._subplots.AxesSubplot at 0x1144d9eb8>"
      ]
     },
     "execution_count": 10,
     "metadata": {},
     "output_type": "execute_result"
    },
    {
     "data": {
      "image/png": "[encoded data removed]",
      "text/plain": [
       "<Figure size 432x288 with 1 Axes>"
      ]
     },
     "metadata": {
      "needs_background": "light"
     },
     "output_type": "display_data"
    }
   ],
   "source": [
    "q1.groupby(q1['trip_start_time'].dt.day)['trip_start_time'].count().plot(kind='bar')"
   ]
  },
  {
   "cell_type": "code",
   "execution_count": 11,
   "metadata": {},
   "outputs": [
    {
     "data": {
      "text/plain": [
       "<matplotlib.axes._subplots.AxesSubplot at 0x116856908>"
      ]
     },
     "execution_count": 11,
     "metadata": {},
     "output_type": "execute_result"
    },
    {
     "data": {
      "image/png": "[encoded data removed]",
      "text/plain": [
       "<Figure size 432x288 with 1 Axes>"
      ]
     },
     "metadata": {
      "needs_background": "light"
     },
     "output_type": "display_data"
    }
   ],
   "source": [
    "q1.groupby(q1['trip_start_time'].dt.month)['trip_start_time'].count().plot(kind='bar')"
   ]
  },
  {
   "cell_type": "code",
   "execution_count": 12,
   "metadata": {},
   "outputs": [],
   "source": [
    "q1['Date'] = q1['trip_start_time'].apply(lambda x: x.strftime('%Y-%m-%d'))\n",
    "q1['Day'] = q1['trip_start_time'].dt.day\n",
    "q1['Month'] = q1['trip_start_time'].dt.month\n",
    "q1['start_hr'] = q1['trip_start_time'].dt.hour\n",
    "q1['start_min'] = q1['trip_start_time'].dt.minute"
   ]
  },
  {
   "cell_type": "markdown",
   "metadata": {
    "slideshow": {
     "slide_type": "slide"
    }
   },
   "source": [
    "# Weather Data\n",
    "\n",
    "Historical weather data is available from a Government of Canada [website](http://climate.weather.gc.ca/climate_data/daily_data_e.html?StationID=51459&timeframe=2&StartYear=1840&EndYear=2019&Day=22&Year=2017&Month=1#).\n",
    "\n",
    "The website can be scraped.  See <http://climate.weather.gc.ca/robots.txt> which states that it's OK to crawl this website.\n",
    "\n",
    "The weather data will need to be merged with the ridership data."
   ]
  },
  {
   "cell_type": "code",
   "execution_count": 14,
   "metadata": {
    "slideshow": {
     "slide_type": "subslide"
    }
   },
   "outputs": [
    {
     "data": {
      "text/html": [
       "<div>\n",
       "<style scoped>\n",
       "    .dataframe tbody tr th:only-of-type {\n",
       "        vertical-align: middle;\n",
       "    }\n",
       "\n",
       "    .dataframe tbody tr th {\n",
       "        vertical-align: top;\n",
       "    }\n",
       "\n",
       "    .dataframe thead th {\n",
       "        text-align: right;\n",
       "    }\n",
       "</style>\n",
       "<table border=\"1\" class=\"dataframe\">\n",
       "  <thead>\n",
       "    <tr style=\"text-align: right;\">\n",
       "      <th></th>\n",
       "      <th>DAY</th>\n",
       "      <th>Max Temp Definition°C</th>\n",
       "      <th>Min Temp Definition°C</th>\n",
       "      <th>Mean Temp Definition°C</th>\n",
       "      <th>Heat Deg Days Definition</th>\n",
       "      <th>Cool Deg Days Definition</th>\n",
       "      <th>Total Rain Definitionmm</th>\n",
       "      <th>Total Snow Definitioncm</th>\n",
       "      <th>Total Precip Definitionmm</th>\n",
       "      <th>Snow on Grnd Definitioncm</th>\n",
       "      <th>Dir of Max Gust Definition10's deg</th>\n",
       "      <th>Spd of Max Gust Definitionkm/h</th>\n",
       "    </tr>\n",
       "  </thead>\n",
       "  <tbody>\n",
       "    <tr>\n",
       "      <th>0</th>\n",
       "      <td>01</td>\n",
       "      <td>1.8</td>\n",
       "      <td>-2.5</td>\n",
       "      <td>-0.4</td>\n",
       "      <td>18.4</td>\n",
       "      <td>0.0</td>\n",
       "      <td>0.0</td>\n",
       "      <td>0.0</td>\n",
       "      <td>0.0</td>\n",
       "      <td>3</td>\n",
       "      <td>27.0</td>\n",
       "      <td>50</td>\n",
       "    </tr>\n",
       "    <tr>\n",
       "      <th>1</th>\n",
       "      <td>02</td>\n",
       "      <td>4.8</td>\n",
       "      <td>-4.1</td>\n",
       "      <td>0.4</td>\n",
       "      <td>17.6</td>\n",
       "      <td>0.0</td>\n",
       "      <td>LegendTT</td>\n",
       "      <td>0.0</td>\n",
       "      <td>LegendTT</td>\n",
       "      <td>2</td>\n",
       "      <td>10.0</td>\n",
       "      <td>35</td>\n",
       "    </tr>\n",
       "    <tr>\n",
       "      <th>2</th>\n",
       "      <td>03</td>\n",
       "      <td>4.4</td>\n",
       "      <td>1.7</td>\n",
       "      <td>3.1</td>\n",
       "      <td>14.9</td>\n",
       "      <td>0.0</td>\n",
       "      <td>15.8</td>\n",
       "      <td>0.0</td>\n",
       "      <td>15.8</td>\n",
       "      <td>LegendTT</td>\n",
       "      <td>NaN</td>\n",
       "      <td>&lt;31</td>\n",
       "    </tr>\n",
       "    <tr>\n",
       "      <th>3</th>\n",
       "      <td>04</td>\n",
       "      <td>3.5</td>\n",
       "      <td>-8.5</td>\n",
       "      <td>-2.5</td>\n",
       "      <td>20.5</td>\n",
       "      <td>0.0</td>\n",
       "      <td>0.2</td>\n",
       "      <td>LegendTT</td>\n",
       "      <td>0.2</td>\n",
       "      <td>LegendTT</td>\n",
       "      <td>27.0</td>\n",
       "      <td>80</td>\n",
       "    </tr>\n",
       "    <tr>\n",
       "      <th>4</th>\n",
       "      <td>05</td>\n",
       "      <td>-6.5</td>\n",
       "      <td>-11.9</td>\n",
       "      <td>-9.2</td>\n",
       "      <td>27.2</td>\n",
       "      <td>0.0</td>\n",
       "      <td>0.0</td>\n",
       "      <td>LegendTT</td>\n",
       "      <td>LegendTT</td>\n",
       "      <td>LegendTT</td>\n",
       "      <td>25.0</td>\n",
       "      <td>56</td>\n",
       "    </tr>\n",
       "    <tr>\n",
       "      <th>5</th>\n",
       "      <td>06</td>\n",
       "      <td>-7.3</td>\n",
       "      <td>-13.4</td>\n",
       "      <td>-10.4</td>\n",
       "      <td>28.4</td>\n",
       "      <td>0.0</td>\n",
       "      <td>0.0</td>\n",
       "      <td>0.0</td>\n",
       "      <td>0.0</td>\n",
       "      <td>LegendTT</td>\n",
       "      <td>26.0</td>\n",
       "      <td>43</td>\n",
       "    </tr>\n",
       "    <tr>\n",
       "      <th>6</th>\n",
       "      <td>07</td>\n",
       "      <td>-7.6</td>\n",
       "      <td>-14.2</td>\n",
       "      <td>-10.9</td>\n",
       "      <td>28.9</td>\n",
       "      <td>0.0</td>\n",
       "      <td>0.0</td>\n",
       "      <td>0.0</td>\n",
       "      <td>0.0</td>\n",
       "      <td>LegendTT</td>\n",
       "      <td>28.0</td>\n",
       "      <td>41</td>\n",
       "    </tr>\n",
       "    <tr>\n",
       "      <th>7</th>\n",
       "      <td>08</td>\n",
       "      <td>-9.0</td>\n",
       "      <td>-13.4</td>\n",
       "      <td>-11.2</td>\n",
       "      <td>29.2</td>\n",
       "      <td>0.0</td>\n",
       "      <td>0.0</td>\n",
       "      <td>LegendTT</td>\n",
       "      <td>LegendTT</td>\n",
       "      <td>LegendTT</td>\n",
       "      <td>25.0</td>\n",
       "      <td>50</td>\n",
       "    </tr>\n",
       "    <tr>\n",
       "      <th>8</th>\n",
       "      <td>09</td>\n",
       "      <td>-2.7</td>\n",
       "      <td>-9.5</td>\n",
       "      <td>-6.1</td>\n",
       "      <td>24.1</td>\n",
       "      <td>0.0</td>\n",
       "      <td>0.0</td>\n",
       "      <td>LegendTT</td>\n",
       "      <td>LegendTT</td>\n",
       "      <td>LegendTT</td>\n",
       "      <td>25.0</td>\n",
       "      <td>57</td>\n",
       "    </tr>\n",
       "    <tr>\n",
       "      <th>9</th>\n",
       "      <td>10</td>\n",
       "      <td>7.8</td>\n",
       "      <td>-3.1</td>\n",
       "      <td>2.4</td>\n",
       "      <td>15.6</td>\n",
       "      <td>0.0</td>\n",
       "      <td>11.2</td>\n",
       "      <td>7.2</td>\n",
       "      <td>19.0</td>\n",
       "      <td>1</td>\n",
       "      <td>23.0</td>\n",
       "      <td>74</td>\n",
       "    </tr>\n",
       "    <tr>\n",
       "      <th>10</th>\n",
       "      <td>11</td>\n",
       "      <td>7.3</td>\n",
       "      <td>0.8</td>\n",
       "      <td>4.1</td>\n",
       "      <td>13.9</td>\n",
       "      <td>0.0</td>\n",
       "      <td>6.2</td>\n",
       "      <td>0.0</td>\n",
       "      <td>6.2</td>\n",
       "      <td>LegendTT</td>\n",
       "      <td>25.0</td>\n",
       "      <td>102</td>\n",
       "    </tr>\n",
       "    <tr>\n",
       "      <th>11</th>\n",
       "      <td>12</td>\n",
       "      <td>8.9</td>\n",
       "      <td>-2.3</td>\n",
       "      <td>3.3</td>\n",
       "      <td>14.7</td>\n",
       "      <td>0.0</td>\n",
       "      <td>10.2</td>\n",
       "      <td>0.0</td>\n",
       "      <td>10.2</td>\n",
       "      <td>LegendTT</td>\n",
       "      <td>26.0</td>\n",
       "      <td>46</td>\n",
       "    </tr>\n",
       "    <tr>\n",
       "      <th>12</th>\n",
       "      <td>13</td>\n",
       "      <td>-1.6</td>\n",
       "      <td>-8.8</td>\n",
       "      <td>-5.2</td>\n",
       "      <td>23.2</td>\n",
       "      <td>0.0</td>\n",
       "      <td>0.0</td>\n",
       "      <td>LegendTT</td>\n",
       "      <td>LegendTT</td>\n",
       "      <td>LegendTT</td>\n",
       "      <td>29.0</td>\n",
       "      <td>56</td>\n",
       "    </tr>\n",
       "    <tr>\n",
       "      <th>13</th>\n",
       "      <td>14</td>\n",
       "      <td>-3.3</td>\n",
       "      <td>-9.1</td>\n",
       "      <td>-6.2</td>\n",
       "      <td>24.2</td>\n",
       "      <td>0.0</td>\n",
       "      <td>0.0</td>\n",
       "      <td>LegendTT</td>\n",
       "      <td>LegendTT</td>\n",
       "      <td>LegendTT</td>\n",
       "      <td>NaN</td>\n",
       "      <td>&lt;31</td>\n",
       "    </tr>\n",
       "    <tr>\n",
       "      <th>14</th>\n",
       "      <td>15</td>\n",
       "      <td>-0.1</td>\n",
       "      <td>-7.2</td>\n",
       "      <td>-3.7</td>\n",
       "      <td>21.7</td>\n",
       "      <td>0.0</td>\n",
       "      <td>0.0</td>\n",
       "      <td>0.0</td>\n",
       "      <td>0.0</td>\n",
       "      <td>NaN</td>\n",
       "      <td>NaN</td>\n",
       "      <td>&lt;31</td>\n",
       "    </tr>\n",
       "    <tr>\n",
       "      <th>15</th>\n",
       "      <td>16</td>\n",
       "      <td>2.6</td>\n",
       "      <td>-6.3</td>\n",
       "      <td>-1.9</td>\n",
       "      <td>19.9</td>\n",
       "      <td>0.0</td>\n",
       "      <td>0.0</td>\n",
       "      <td>0.0</td>\n",
       "      <td>0.0</td>\n",
       "      <td>LegendTT</td>\n",
       "      <td>26.0</td>\n",
       "      <td>32</td>\n",
       "    </tr>\n",
       "    <tr>\n",
       "      <th>16</th>\n",
       "      <td>17</td>\n",
       "      <td>1.7</td>\n",
       "      <td>-0.3</td>\n",
       "      <td>0.7</td>\n",
       "      <td>17.3</td>\n",
       "      <td>0.0</td>\n",
       "      <td>12.2</td>\n",
       "      <td>0.0</td>\n",
       "      <td>12.2</td>\n",
       "      <td>LegendTT</td>\n",
       "      <td>9.0</td>\n",
       "      <td>44</td>\n",
       "    </tr>\n",
       "    <tr>\n",
       "      <th>17</th>\n",
       "      <td>18</td>\n",
       "      <td>3.3</td>\n",
       "      <td>0.7</td>\n",
       "      <td>2.0</td>\n",
       "      <td>16.0</td>\n",
       "      <td>0.0</td>\n",
       "      <td>0.4</td>\n",
       "      <td>0.0</td>\n",
       "      <td>0.4</td>\n",
       "      <td>LegendTT</td>\n",
       "      <td>23.0</td>\n",
       "      <td>33</td>\n",
       "    </tr>\n",
       "    <tr>\n",
       "      <th>18</th>\n",
       "      <td>19</td>\n",
       "      <td>2.9</td>\n",
       "      <td>0.9</td>\n",
       "      <td>1.9</td>\n",
       "      <td>16.1</td>\n",
       "      <td>0.0</td>\n",
       "      <td>LegendTT</td>\n",
       "      <td>0.0</td>\n",
       "      <td>LegendTT</td>\n",
       "      <td>LegendTT</td>\n",
       "      <td>NaN</td>\n",
       "      <td>&lt;31</td>\n",
       "    </tr>\n",
       "    <tr>\n",
       "      <th>19</th>\n",
       "      <td>20</td>\n",
       "      <td>3.7</td>\n",
       "      <td>0.7</td>\n",
       "      <td>2.2</td>\n",
       "      <td>15.8</td>\n",
       "      <td>0.0</td>\n",
       "      <td>0.2</td>\n",
       "      <td>0.0</td>\n",
       "      <td>0.2</td>\n",
       "      <td>LegendTT</td>\n",
       "      <td>NaN</td>\n",
       "      <td>&lt;31</td>\n",
       "    </tr>\n",
       "    <tr>\n",
       "      <th>20</th>\n",
       "      <td>21</td>\n",
       "      <td>6.3</td>\n",
       "      <td>2.0</td>\n",
       "      <td>4.2</td>\n",
       "      <td>13.8</td>\n",
       "      <td>0.0</td>\n",
       "      <td>LegendTT</td>\n",
       "      <td>0.0</td>\n",
       "      <td>LegendTT</td>\n",
       "      <td>LegendTT</td>\n",
       "      <td>NaN</td>\n",
       "      <td>&lt;31</td>\n",
       "    </tr>\n",
       "    <tr>\n",
       "      <th>21</th>\n",
       "      <td>22</td>\n",
       "      <td>5.4</td>\n",
       "      <td>1.8</td>\n",
       "      <td>3.6</td>\n",
       "      <td>14.4</td>\n",
       "      <td>0.0</td>\n",
       "      <td>LegendTT</td>\n",
       "      <td>0.0</td>\n",
       "      <td>LegendTT</td>\n",
       "      <td>NaN</td>\n",
       "      <td>9.0</td>\n",
       "      <td>39</td>\n",
       "    </tr>\n",
       "    <tr>\n",
       "      <th>22</th>\n",
       "      <td>23</td>\n",
       "      <td>3.9</td>\n",
       "      <td>0.5</td>\n",
       "      <td>2.2</td>\n",
       "      <td>15.8</td>\n",
       "      <td>0.0</td>\n",
       "      <td>LegendTT</td>\n",
       "      <td>0.0</td>\n",
       "      <td>LegendTT</td>\n",
       "      <td>NaN</td>\n",
       "      <td>9.0</td>\n",
       "      <td>41</td>\n",
       "    </tr>\n",
       "    <tr>\n",
       "      <th>23</th>\n",
       "      <td>24</td>\n",
       "      <td>1.4</td>\n",
       "      <td>-0.7</td>\n",
       "      <td>0.4</td>\n",
       "      <td>17.6</td>\n",
       "      <td>0.0</td>\n",
       "      <td>0.0</td>\n",
       "      <td>0.0</td>\n",
       "      <td>0.0</td>\n",
       "      <td>NaN</td>\n",
       "      <td>30.0</td>\n",
       "      <td>37</td>\n",
       "    </tr>\n",
       "    <tr>\n",
       "      <th>24</th>\n",
       "      <td>25</td>\n",
       "      <td>4.9</td>\n",
       "      <td>-0.6</td>\n",
       "      <td>2.2</td>\n",
       "      <td>15.8</td>\n",
       "      <td>0.0</td>\n",
       "      <td>1.0</td>\n",
       "      <td>LegendTT</td>\n",
       "      <td>1.0</td>\n",
       "      <td>NaN</td>\n",
       "      <td>NaN</td>\n",
       "      <td>&lt;31</td>\n",
       "    </tr>\n",
       "    <tr>\n",
       "      <th>25</th>\n",
       "      <td>26</td>\n",
       "      <td>4.0</td>\n",
       "      <td>0.2</td>\n",
       "      <td>2.1</td>\n",
       "      <td>15.9</td>\n",
       "      <td>0.0</td>\n",
       "      <td>1.8</td>\n",
       "      <td>LegendTT</td>\n",
       "      <td>1.8</td>\n",
       "      <td>NaN</td>\n",
       "      <td>29.0</td>\n",
       "      <td>56</td>\n",
       "    </tr>\n",
       "    <tr>\n",
       "      <th>26</th>\n",
       "      <td>27</td>\n",
       "      <td>1.8</td>\n",
       "      <td>-1.6</td>\n",
       "      <td>0.1</td>\n",
       "      <td>17.9</td>\n",
       "      <td>0.0</td>\n",
       "      <td>0.0</td>\n",
       "      <td>LegendTT</td>\n",
       "      <td>LegendTT</td>\n",
       "      <td>LegendTT</td>\n",
       "      <td>28.0</td>\n",
       "      <td>56</td>\n",
       "    </tr>\n",
       "    <tr>\n",
       "      <th>27</th>\n",
       "      <td>28</td>\n",
       "      <td>-0.9</td>\n",
       "      <td>-2.5</td>\n",
       "      <td>-1.7</td>\n",
       "      <td>19.7</td>\n",
       "      <td>0.0</td>\n",
       "      <td>0.0</td>\n",
       "      <td>0.6</td>\n",
       "      <td>0.4</td>\n",
       "      <td>LegendTT</td>\n",
       "      <td>25.0</td>\n",
       "      <td>44</td>\n",
       "    </tr>\n",
       "    <tr>\n",
       "      <th>28</th>\n",
       "      <td>29</td>\n",
       "      <td>-1.8</td>\n",
       "      <td>-7.1</td>\n",
       "      <td>-4.5</td>\n",
       "      <td>22.5</td>\n",
       "      <td>0.0</td>\n",
       "      <td>0.0</td>\n",
       "      <td>LegendTT</td>\n",
       "      <td>LegendTT</td>\n",
       "      <td>LegendTT</td>\n",
       "      <td>29.0</td>\n",
       "      <td>50</td>\n",
       "    </tr>\n",
       "    <tr>\n",
       "      <th>29</th>\n",
       "      <td>30</td>\n",
       "      <td>-4.6</td>\n",
       "      <td>-10.9</td>\n",
       "      <td>-7.8</td>\n",
       "      <td>25.8</td>\n",
       "      <td>0.0</td>\n",
       "      <td>0.0</td>\n",
       "      <td>0.0</td>\n",
       "      <td>0.0</td>\n",
       "      <td>LegendTT</td>\n",
       "      <td>32.0</td>\n",
       "      <td>33</td>\n",
       "    </tr>\n",
       "    <tr>\n",
       "      <th>30</th>\n",
       "      <td>31</td>\n",
       "      <td>-2.1</td>\n",
       "      <td>-6.0</td>\n",
       "      <td>-4.1</td>\n",
       "      <td>22.1</td>\n",
       "      <td>0.0</td>\n",
       "      <td>0.0</td>\n",
       "      <td>2.4</td>\n",
       "      <td>2.4</td>\n",
       "      <td>LegendTT</td>\n",
       "      <td>10.0</td>\n",
       "      <td>35</td>\n",
       "    </tr>\n",
       "  </tbody>\n",
       "</table>\n",
       "</div>"
      ],
      "text/plain": [
       "   DAY  Max Temp Definition°C  Min Temp Definition°C  Mean Temp Definition°C  \\\n",
       "0   01                    1.8                   -2.5                    -0.4   \n",
       "1   02                    4.8                   -4.1                     0.4   \n",
       "2   03                    4.4                    1.7                     3.1   \n",
       "3   04                    3.5                   -8.5                    -2.5   \n",
       "4   05                   -6.5                  -11.9                    -9.2   \n",
       "5   06                   -7.3                  -13.4                   -10.4   \n",
       "6   07                   -7.6                  -14.2                   -10.9   \n",
       "7   08                   -9.0                  -13.4                   -11.2   \n",
       "8   09                   -2.7                   -9.5                    -6.1   \n",
       "9   10                    7.8                   -3.1                     2.4   \n",
       "10  11                    7.3                    0.8                     4.1   \n",
       "11  12                    8.9                   -2.3                     3.3   \n",
       "12  13                   -1.6                   -8.8                    -5.2   \n",
       "13  14                   -3.3                   -9.1                    -6.2   \n",
       "14  15                   -0.1                   -7.2                    -3.7   \n",
       "15  16                    2.6                   -6.3                    -1.9   \n",
       "16  17                    1.7                   -0.3                     0.7   \n",
       "17  18                    3.3                    0.7                     2.0   \n",
       "18  19                    2.9                    0.9                     1.9   \n",
       "19  20                    3.7                    0.7                     2.2   \n",
       "20  21                    6.3                    2.0                     4.2   \n",
       "21  22                    5.4                    1.8                     3.6   \n",
       "22  23                    3.9                    0.5                     2.2   \n",
       "23  24                    1.4                   -0.7                     0.4   \n",
       "24  25                    4.9                   -0.6                     2.2   \n",
       "25  26                    4.0                    0.2                     2.1   \n",
       "26  27                    1.8                   -1.6                     0.1   \n",
       "27  28                   -0.9                   -2.5                    -1.7   \n",
       "28  29                   -1.8                   -7.1                    -4.5   \n",
       "29  30                   -4.6                  -10.9                    -7.8   \n",
       "30  31                   -2.1                   -6.0                    -4.1   \n",
       "\n",
       "    Heat Deg Days Definition  Cool Deg Days Definition  \\\n",
       "0                       18.4                       0.0   \n",
       "1                       17.6                       0.0   \n",
       "2                       14.9                       0.0   \n",
       "3                       20.5                       0.0   \n",
       "4                       27.2                       0.0   \n",
       "5                       28.4                       0.0   \n",
       "6                       28.9                       0.0   \n",
       "7                       29.2                       0.0   \n",
       "8                       24.1                       0.0   \n",
       "9                       15.6                       0.0   \n",
       "10                      13.9                       0.0   \n",
       "11                      14.7                       0.0   \n",
       "12                      23.2                       0.0   \n",
       "13                      24.2                       0.0   \n",
       "14                      21.7                       0.0   \n",
       "15                      19.9                       0.0   \n",
       "16                      17.3                       0.0   \n",
       "17                      16.0                       0.0   \n",
       "18                      16.1                       0.0   \n",
       "19                      15.8                       0.0   \n",
       "20                      13.8                       0.0   \n",
       "21                      14.4                       0.0   \n",
       "22                      15.8                       0.0   \n",
       "23                      17.6                       0.0   \n",
       "24                      15.8                       0.0   \n",
       "25                      15.9                       0.0   \n",
       "26                      17.9                       0.0   \n",
       "27                      19.7                       0.0   \n",
       "28                      22.5                       0.0   \n",
       "29                      25.8                       0.0   \n",
       "30                      22.1                       0.0   \n",
       "\n",
       "   Total Rain Definitionmm Total Snow Definitioncm Total Precip Definitionmm  \\\n",
       "0                      0.0                     0.0                       0.0   \n",
       "1                 LegendTT                     0.0                  LegendTT   \n",
       "2                     15.8                     0.0                      15.8   \n",
       "3                      0.2                LegendTT                       0.2   \n",
       "4                      0.0                LegendTT                  LegendTT   \n",
       "5                      0.0                     0.0                       0.0   \n",
       "6                      0.0                     0.0                       0.0   \n",
       "7                      0.0                LegendTT                  LegendTT   \n",
       "8                      0.0                LegendTT                  LegendTT   \n",
       "9                     11.2                     7.2                      19.0   \n",
       "10                     6.2                     0.0                       6.2   \n",
       "11                    10.2                     0.0                      10.2   \n",
       "12                     0.0                LegendTT                  LegendTT   \n",
       "13                     0.0                LegendTT                  LegendTT   \n",
       "14                     0.0                     0.0                       0.0   \n",
       "15                     0.0                     0.0                       0.0   \n",
       "16                    12.2                     0.0                      12.2   \n",
       "17                     0.4                     0.0                       0.4   \n",
       "18                LegendTT                     0.0                  LegendTT   \n",
       "19                     0.2                     0.0                       0.2   \n",
       "20                LegendTT                     0.0                  LegendTT   \n",
       "21                LegendTT                     0.0                  LegendTT   \n",
       "22                LegendTT                     0.0                  LegendTT   \n",
       "23                     0.0                     0.0                       0.0   \n",
       "24                     1.0                LegendTT                       1.0   \n",
       "25                     1.8                LegendTT                       1.8   \n",
       "26                     0.0                LegendTT                  LegendTT   \n",
       "27                     0.0                     0.6                       0.4   \n",
       "28                     0.0                LegendTT                  LegendTT   \n",
       "29                     0.0                     0.0                       0.0   \n",
       "30                     0.0                     2.4                       2.4   \n",
       "\n",
       "   Snow on Grnd Definitioncm  Dir of Max Gust Definition10's deg  \\\n",
       "0                          3                                27.0   \n",
       "1                          2                                10.0   \n",
       "2                   LegendTT                                 NaN   \n",
       "3                   LegendTT                                27.0   \n",
       "4                   LegendTT                                25.0   \n",
       "5                   LegendTT                                26.0   \n",
       "6                   LegendTT                                28.0   \n",
       "7                   LegendTT                                25.0   \n",
       "8                   LegendTT                                25.0   \n",
       "9                          1                                23.0   \n",
       "10                  LegendTT                                25.0   \n",
       "11                  LegendTT                                26.0   \n",
       "12                  LegendTT                                29.0   \n",
       "13                  LegendTT                                 NaN   \n",
       "14                       NaN                                 NaN   \n",
       "15                  LegendTT                                26.0   \n",
       "16                  LegendTT                                 9.0   \n",
       "17                  LegendTT                                23.0   \n",
       "18                  LegendTT                                 NaN   \n",
       "19                  LegendTT                                 NaN   \n",
       "20                  LegendTT                                 NaN   \n",
       "21                       NaN                                 9.0   \n",
       "22                       NaN                                 9.0   \n",
       "23                       NaN                                30.0   \n",
       "24                       NaN                                 NaN   \n",
       "25                       NaN                                29.0   \n",
       "26                  LegendTT                                28.0   \n",
       "27                  LegendTT                                25.0   \n",
       "28                  LegendTT                                29.0   \n",
       "29                  LegendTT                                32.0   \n",
       "30                  LegendTT                                10.0   \n",
       "\n",
       "   Spd of Max Gust Definitionkm/h  \n",
       "0                              50  \n",
       "1                              35  \n",
       "2                             <31  \n",
       "3                              80  \n",
       "4                              56  \n",
       "5                              43  \n",
       "6                              41  \n",
       "7                              50  \n",
       "8                              57  \n",
       "9                              74  \n",
       "10                            102  \n",
       "11                             46  \n",
       "12                             56  \n",
       "13                            <31  \n",
       "14                            <31  \n",
       "15                             32  \n",
       "16                             44  \n",
       "17                             33  \n",
       "18                            <31  \n",
       "19                            <31  \n",
       "20                            <31  \n",
       "21                             39  \n",
       "22                             41  \n",
       "23                             37  \n",
       "24                            <31  \n",
       "25                             56  \n",
       "26                             56  \n",
       "27                             44  \n",
       "28                             50  \n",
       "29                             33  \n",
       "30                             35  "
      ]
     },
     "execution_count": 14,
     "metadata": {},
     "output_type": "execute_result"
    }
   ],
   "source": [
    "base_url = 'http://climate.weather.gc.ca/climate_data/daily_data_e.html?'\n",
    "query_url = 'StationID=51459&timeframe=2&StartYear=1840&EndYear=2019&Day=22&Year=2017&Month=1#'\n",
    "\n",
    "jan_weather = pd.read_html(base_url+query_url)\n",
    "jan_weather = jan_weather[0][0:31]\n",
    "jan_weather"
   ]
  },
  {
   "cell_type": "code",
   "execution_count": 128,
   "metadata": {},
   "outputs": [
    {
     "data": {
      "text/html": [
       "<div>\n",
       "<style scoped>\n",
       "    .dataframe tbody tr th:only-of-type {\n",
       "        vertical-align: middle;\n",
       "    }\n",
       "\n",
       "    .dataframe tbody tr th {\n",
       "        vertical-align: top;\n",
       "    }\n",
       "\n",
       "    .dataframe thead th {\n",
       "        text-align: right;\n",
       "    }\n",
       "</style>\n",
       "<table border=\"1\" class=\"dataframe\">\n",
       "  <thead>\n",
       "    <tr style=\"text-align: right;\">\n",
       "      <th></th>\n",
       "      <th>Date</th>\n",
       "      <th>Mean_Temp</th>\n",
       "      <th>Total_Precip</th>\n",
       "    </tr>\n",
       "  </thead>\n",
       "  <tbody>\n",
       "    <tr>\n",
       "      <th>0</th>\n",
       "      <td>2017-01-2017-01-2017-01-2017-01-01</td>\n",
       "      <td>-0.4</td>\n",
       "      <td>0.0</td>\n",
       "    </tr>\n",
       "    <tr>\n",
       "      <th>1</th>\n",
       "      <td>2017-01-2017-01-2017-01-2017-01-02</td>\n",
       "      <td>0.4</td>\n",
       "      <td>0</td>\n",
       "    </tr>\n",
       "    <tr>\n",
       "      <th>2</th>\n",
       "      <td>2017-01-2017-01-2017-01-2017-01-03</td>\n",
       "      <td>3.1</td>\n",
       "      <td>15.8</td>\n",
       "    </tr>\n",
       "    <tr>\n",
       "      <th>3</th>\n",
       "      <td>2017-01-2017-01-2017-01-2017-01-04</td>\n",
       "      <td>-2.5</td>\n",
       "      <td>0.2</td>\n",
       "    </tr>\n",
       "    <tr>\n",
       "      <th>4</th>\n",
       "      <td>2017-01-2017-01-2017-01-2017-01-05</td>\n",
       "      <td>-9.2</td>\n",
       "      <td>0</td>\n",
       "    </tr>\n",
       "  </tbody>\n",
       "</table>\n",
       "</div>"
      ],
      "text/plain": [
       "                                 Date  Mean_Temp Total_Precip\n",
       "0  2017-01-2017-01-2017-01-2017-01-01       -0.4          0.0\n",
       "1  2017-01-2017-01-2017-01-2017-01-02        0.4            0\n",
       "2  2017-01-2017-01-2017-01-2017-01-03        3.1         15.8\n",
       "3  2017-01-2017-01-2017-01-2017-01-04       -2.5          0.2\n",
       "4  2017-01-2017-01-2017-01-2017-01-05       -9.2            0"
      ]
     },
     "execution_count": 128,
     "metadata": {},
     "output_type": "execute_result"
    }
   ],
   "source": [
    "# rename columns\n",
    "\n",
    "# chr(186) is unicode char for degree \n",
    "newcolnames = {'DAY' : 'Date','Mean Temp Definition' + chr(176)+'C': 'Mean_Temp', 'Total Precip Definitionmm' :'Total_Precip'}\n",
    "jan_weather.rename(columns = newcolnames, inplace = True)\n",
    "\n",
    "# create date that can be merged with ridership data\n",
    "jan_weather['Date'] = '2017'+ '-'+'01' + '-' + jan_weather['Date']\n",
    "\n",
    "# replace trace rain values with 0.\n",
    "jan_weather = jan_weather[['Date', 'Mean_Temp', 'Total_Precip']].replace('LegendTT', 0)\n",
    "\n",
    "jan_weather.head()"
   ]
  },
  {
   "cell_type": "markdown",
   "metadata": {
    "slideshow": {
     "slide_type": "subslide"
    }
   },
   "source": [
    "Do the same for February and March ..."
   ]
  },
  {
   "cell_type": "code",
   "execution_count": 15,
   "metadata": {},
   "outputs": [
    {
     "data": {
      "text/html": [
       "<div>\n",
       "<style scoped>\n",
       "    .dataframe tbody tr th:only-of-type {\n",
       "        vertical-align: middle;\n",
       "    }\n",
       "\n",
       "    .dataframe tbody tr th {\n",
       "        vertical-align: top;\n",
       "    }\n",
       "\n",
       "    .dataframe thead th {\n",
       "        text-align: right;\n",
       "    }\n",
       "</style>\n",
       "<table border=\"1\" class=\"dataframe\">\n",
       "  <thead>\n",
       "    <tr style=\"text-align: right;\">\n",
       "      <th></th>\n",
       "      <th>Date</th>\n",
       "      <th>Mean_Temp</th>\n",
       "      <th>Total_Precip</th>\n",
       "    </tr>\n",
       "  </thead>\n",
       "  <tbody>\n",
       "    <tr>\n",
       "      <th>0</th>\n",
       "      <td>2017-02-01</td>\n",
       "      <td>-1.2</td>\n",
       "      <td>0.4</td>\n",
       "    </tr>\n",
       "    <tr>\n",
       "      <th>1</th>\n",
       "      <td>2017-02-02</td>\n",
       "      <td>-5.0</td>\n",
       "      <td>0</td>\n",
       "    </tr>\n",
       "    <tr>\n",
       "      <th>2</th>\n",
       "      <td>2017-02-03</td>\n",
       "      <td>-7.1</td>\n",
       "      <td>0</td>\n",
       "    </tr>\n",
       "    <tr>\n",
       "      <th>3</th>\n",
       "      <td>2017-02-04</td>\n",
       "      <td>-5.7</td>\n",
       "      <td>0</td>\n",
       "    </tr>\n",
       "    <tr>\n",
       "      <th>4</th>\n",
       "      <td>2017-02-05</td>\n",
       "      <td>-1.5</td>\n",
       "      <td>0.8</td>\n",
       "    </tr>\n",
       "  </tbody>\n",
       "</table>\n",
       "</div>"
      ],
      "text/plain": [
       "         Date  Mean_Temp Total_Precip\n",
       "0  2017-02-01       -1.2          0.4\n",
       "1  2017-02-02       -5.0            0\n",
       "2  2017-02-03       -7.1            0\n",
       "3  2017-02-04       -5.7            0\n",
       "4  2017-02-05       -1.5          0.8"
      ]
     },
     "execution_count": 15,
     "metadata": {},
     "output_type": "execute_result"
    }
   ],
   "source": [
    "query_url = 'StationID=51459&timeframe=2&StartYear=1840&EndYear=2019&Day=22&Year=2017&Month=2#'\n",
    "\n",
    "feb_weather = pd.read_html(base_url+query_url)\n",
    "feb_weather = feb_weather[0][0:28]\n",
    "\n",
    "# rename columns\n",
    "feb_weather.rename(columns = {'DAY' : 'Date','Mean Temp Definition' + chr(176)+'C': 'Mean_Temp', 'Total Precip Definitionmm' :'Total_Precip'}, inplace = True)\n",
    "\n",
    "# create date that can be merged with ridership data\n",
    "feb_weather['Date'] = '2017'+ '-'+'02' + '-' + feb_weather['Date']\n",
    "\n",
    "# replace trace rain values with 0.\n",
    "feb_weather = feb_weather[['Date', 'Mean_Temp', 'Total_Precip']].replace('LegendTT', 0)\n",
    "\n",
    "feb_weather.head()"
   ]
  },
  {
   "cell_type": "code",
   "execution_count": 16,
   "metadata": {},
   "outputs": [
    {
     "data": {
      "text/html": [
       "<div>\n",
       "<style scoped>\n",
       "    .dataframe tbody tr th:only-of-type {\n",
       "        vertical-align: middle;\n",
       "    }\n",
       "\n",
       "    .dataframe tbody tr th {\n",
       "        vertical-align: top;\n",
       "    }\n",
       "\n",
       "    .dataframe thead th {\n",
       "        text-align: right;\n",
       "    }\n",
       "</style>\n",
       "<table border=\"1\" class=\"dataframe\">\n",
       "  <thead>\n",
       "    <tr style=\"text-align: right;\">\n",
       "      <th></th>\n",
       "      <th>Date</th>\n",
       "      <th>Mean_Temp</th>\n",
       "      <th>Total_Precip</th>\n",
       "    </tr>\n",
       "  </thead>\n",
       "  <tbody>\n",
       "    <tr>\n",
       "      <th>0</th>\n",
       "      <td>2017-02-01</td>\n",
       "      <td>5.0</td>\n",
       "      <td>19.8</td>\n",
       "    </tr>\n",
       "    <tr>\n",
       "      <th>1</th>\n",
       "      <td>2017-02-02</td>\n",
       "      <td>-4.9</td>\n",
       "      <td>0</td>\n",
       "    </tr>\n",
       "    <tr>\n",
       "      <th>2</th>\n",
       "      <td>2017-02-03</td>\n",
       "      <td>-7.5</td>\n",
       "      <td>0.2</td>\n",
       "    </tr>\n",
       "    <tr>\n",
       "      <th>3</th>\n",
       "      <td>2017-02-04</td>\n",
       "      <td>-9.6</td>\n",
       "      <td>0</td>\n",
       "    </tr>\n",
       "    <tr>\n",
       "      <th>4</th>\n",
       "      <td>2017-02-05</td>\n",
       "      <td>-7.1</td>\n",
       "      <td>0.0</td>\n",
       "    </tr>\n",
       "  </tbody>\n",
       "</table>\n",
       "</div>"
      ],
      "text/plain": [
       "         Date  Mean_Temp Total_Precip\n",
       "0  2017-02-01        5.0         19.8\n",
       "1  2017-02-02       -4.9            0\n",
       "2  2017-02-03       -7.5          0.2\n",
       "3  2017-02-04       -9.6            0\n",
       "4  2017-02-05       -7.1          0.0"
      ]
     },
     "execution_count": 16,
     "metadata": {},
     "output_type": "execute_result"
    }
   ],
   "source": [
    "query_url = 'StationID=51459&timeframe=2&StartYear=1840&EndYear=2019&Day=22&Year=2017&Month=3#'\n",
    "\n",
    "march_weather = pd.read_html(base_url+query_url)\n",
    "march_weather = march_weather[0][0:31]\n",
    "\n",
    "# rename columns\n",
    "march_weather.rename(columns = {'DAY' : 'Date','Mean Temp Definition' + chr(176)+'C': 'Mean_Temp', 'Total Precip Definitionmm' :'Total_Precip'}, inplace = True)\n",
    "\n",
    "# create date that can be merged with ridership data\n",
    "march_weather['Date'] = '2017'+ '-'+'02' + '-' + march_weather['Date']\n",
    "\n",
    "# replace trace rain values with 0.\n",
    "march_weather = march_weather[['Date', 'Mean_Temp', 'Total_Precip']].replace({'LegendTT':0, 'LegendMM':0})\n",
    "\n",
    "\n",
    "march_weather.head()"
   ]
  },
  {
   "cell_type": "markdown",
   "metadata": {
    "slideshow": {
     "slide_type": "subslide"
    }
   },
   "source": [
    "Merge January, February, and March ..."
   ]
  },
  {
   "cell_type": "code",
   "execution_count": 18,
   "metadata": {},
   "outputs": [
    {
     "data": {
      "text/html": [
       "<div>\n",
       "<style scoped>\n",
       "    .dataframe tbody tr th:only-of-type {\n",
       "        vertical-align: middle;\n",
       "    }\n",
       "\n",
       "    .dataframe tbody tr th {\n",
       "        vertical-align: top;\n",
       "    }\n",
       "\n",
       "    .dataframe thead th {\n",
       "        text-align: right;\n",
       "    }\n",
       "</style>\n",
       "<table border=\"1\" class=\"dataframe\">\n",
       "  <thead>\n",
       "    <tr style=\"text-align: right;\">\n",
       "      <th></th>\n",
       "      <th>DAY</th>\n",
       "      <th>Max Temp Definition°C</th>\n",
       "      <th>Min Temp Definition°C</th>\n",
       "      <th>Mean Temp Definition°C</th>\n",
       "      <th>Heat Deg Days Definition</th>\n",
       "      <th>Cool Deg Days Definition</th>\n",
       "      <th>Total Rain Definitionmm</th>\n",
       "      <th>Total Snow Definitioncm</th>\n",
       "      <th>Total Precip Definitionmm</th>\n",
       "      <th>Snow on Grnd Definitioncm</th>\n",
       "      <th>Dir of Max Gust Definition10's deg</th>\n",
       "      <th>Spd of Max Gust Definitionkm/h</th>\n",
       "      <th>Date</th>\n",
       "      <th>Mean_Temp</th>\n",
       "      <th>Total_Precip</th>\n",
       "    </tr>\n",
       "  </thead>\n",
       "  <tbody>\n",
       "    <tr>\n",
       "      <th>0</th>\n",
       "      <td>01</td>\n",
       "      <td>1.8</td>\n",
       "      <td>-2.5</td>\n",
       "      <td>-0.4</td>\n",
       "      <td>18.4</td>\n",
       "      <td>0.0</td>\n",
       "      <td>0.0</td>\n",
       "      <td>0.0</td>\n",
       "      <td>0.0</td>\n",
       "      <td>3</td>\n",
       "      <td>27.0</td>\n",
       "      <td>50</td>\n",
       "      <td>NaN</td>\n",
       "      <td>NaN</td>\n",
       "      <td>NaN</td>\n",
       "    </tr>\n",
       "    <tr>\n",
       "      <th>1</th>\n",
       "      <td>02</td>\n",
       "      <td>4.8</td>\n",
       "      <td>-4.1</td>\n",
       "      <td>0.4</td>\n",
       "      <td>17.6</td>\n",
       "      <td>0.0</td>\n",
       "      <td>LegendTT</td>\n",
       "      <td>0.0</td>\n",
       "      <td>LegendTT</td>\n",
       "      <td>2</td>\n",
       "      <td>10.0</td>\n",
       "      <td>35</td>\n",
       "      <td>NaN</td>\n",
       "      <td>NaN</td>\n",
       "      <td>NaN</td>\n",
       "    </tr>\n",
       "    <tr>\n",
       "      <th>2</th>\n",
       "      <td>03</td>\n",
       "      <td>4.4</td>\n",
       "      <td>1.7</td>\n",
       "      <td>3.1</td>\n",
       "      <td>14.9</td>\n",
       "      <td>0.0</td>\n",
       "      <td>15.8</td>\n",
       "      <td>0.0</td>\n",
       "      <td>15.8</td>\n",
       "      <td>LegendTT</td>\n",
       "      <td>NaN</td>\n",
       "      <td>&lt;31</td>\n",
       "      <td>NaN</td>\n",
       "      <td>NaN</td>\n",
       "      <td>NaN</td>\n",
       "    </tr>\n",
       "    <tr>\n",
       "      <th>3</th>\n",
       "      <td>04</td>\n",
       "      <td>3.5</td>\n",
       "      <td>-8.5</td>\n",
       "      <td>-2.5</td>\n",
       "      <td>20.5</td>\n",
       "      <td>0.0</td>\n",
       "      <td>0.2</td>\n",
       "      <td>LegendTT</td>\n",
       "      <td>0.2</td>\n",
       "      <td>LegendTT</td>\n",
       "      <td>27.0</td>\n",
       "      <td>80</td>\n",
       "      <td>NaN</td>\n",
       "      <td>NaN</td>\n",
       "      <td>NaN</td>\n",
       "    </tr>\n",
       "    <tr>\n",
       "      <th>4</th>\n",
       "      <td>05</td>\n",
       "      <td>-6.5</td>\n",
       "      <td>-11.9</td>\n",
       "      <td>-9.2</td>\n",
       "      <td>27.2</td>\n",
       "      <td>0.0</td>\n",
       "      <td>0.0</td>\n",
       "      <td>LegendTT</td>\n",
       "      <td>LegendTT</td>\n",
       "      <td>LegendTT</td>\n",
       "      <td>25.0</td>\n",
       "      <td>56</td>\n",
       "      <td>NaN</td>\n",
       "      <td>NaN</td>\n",
       "      <td>NaN</td>\n",
       "    </tr>\n",
       "  </tbody>\n",
       "</table>\n",
       "</div>"
      ],
      "text/plain": [
       "  DAY  Max Temp Definition°C  Min Temp Definition°C  Mean Temp Definition°C  \\\n",
       "0  01                    1.8                   -2.5                    -0.4   \n",
       "1  02                    4.8                   -4.1                     0.4   \n",
       "2  03                    4.4                    1.7                     3.1   \n",
       "3  04                    3.5                   -8.5                    -2.5   \n",
       "4  05                   -6.5                  -11.9                    -9.2   \n",
       "\n",
       "   Heat Deg Days Definition  Cool Deg Days Definition Total Rain Definitionmm  \\\n",
       "0                      18.4                       0.0                     0.0   \n",
       "1                      17.6                       0.0                LegendTT   \n",
       "2                      14.9                       0.0                    15.8   \n",
       "3                      20.5                       0.0                     0.2   \n",
       "4                      27.2                       0.0                     0.0   \n",
       "\n",
       "  Total Snow Definitioncm Total Precip Definitionmm Snow on Grnd Definitioncm  \\\n",
       "0                     0.0                       0.0                         3   \n",
       "1                     0.0                  LegendTT                         2   \n",
       "2                     0.0                      15.8                  LegendTT   \n",
       "3                LegendTT                       0.2                  LegendTT   \n",
       "4                LegendTT                  LegendTT                  LegendTT   \n",
       "\n",
       "   Dir of Max Gust Definition10's deg Spd of Max Gust Definitionkm/h Date  \\\n",
       "0                                27.0                             50  NaN   \n",
       "1                                10.0                             35  NaN   \n",
       "2                                 NaN                            <31  NaN   \n",
       "3                                27.0                             80  NaN   \n",
       "4                                25.0                             56  NaN   \n",
       "\n",
       "   Mean_Temp Total_Precip  \n",
       "0        NaN          NaN  \n",
       "1        NaN          NaN  \n",
       "2        NaN          NaN  \n",
       "3        NaN          NaN  \n",
       "4        NaN          NaN  "
      ]
     },
     "execution_count": 18,
     "metadata": {},
     "output_type": "execute_result"
    }
   ],
   "source": [
    "weather = pd.concat([jan_weather, feb_weather, march_weather], sort = False)\n",
    "\n",
    "weather.head()"
   ]
  },
  {
   "cell_type": "markdown",
   "metadata": {
    "slideshow": {
     "slide_type": "subslide"
    }
   },
   "source": [
    "Now merge ridership data with weather ..."
   ]
  },
  {
   "cell_type": "code",
   "execution_count": 19,
   "metadata": {},
   "outputs": [
    {
     "data": {
      "text/html": [
       "<div>\n",
       "<style scoped>\n",
       "    .dataframe tbody tr th:only-of-type {\n",
       "        vertical-align: middle;\n",
       "    }\n",
       "\n",
       "    .dataframe tbody tr th {\n",
       "        vertical-align: top;\n",
       "    }\n",
       "\n",
       "    .dataframe thead th {\n",
       "        text-align: right;\n",
       "    }\n",
       "</style>\n",
       "<table border=\"1\" class=\"dataframe\">\n",
       "  <thead>\n",
       "    <tr style=\"text-align: right;\">\n",
       "      <th></th>\n",
       "      <th>trip_id</th>\n",
       "      <th>trip_start_time</th>\n",
       "      <th>trip_stop_time</th>\n",
       "      <th>trip_duration_seconds</th>\n",
       "      <th>from_station_id</th>\n",
       "      <th>from_station_name</th>\n",
       "      <th>to_station_id</th>\n",
       "      <th>to_station_name</th>\n",
       "      <th>user_type</th>\n",
       "      <th>Date</th>\n",
       "      <th>Day</th>\n",
       "      <th>Month</th>\n",
       "      <th>start_hr</th>\n",
       "      <th>start_min</th>\n",
       "      <th>Mean_Temp</th>\n",
       "      <th>Total_Precip</th>\n",
       "    </tr>\n",
       "  </thead>\n",
       "  <tbody>\n",
       "    <tr>\n",
       "      <th>0</th>\n",
       "      <td>761424</td>\n",
       "      <td>2017-02-01 00:02:00-05:00</td>\n",
       "      <td>1/2/2017 5:12</td>\n",
       "      <td>603</td>\n",
       "      <td>7164</td>\n",
       "      <td>Victoria St / Gould St (Ryerson University)</td>\n",
       "      <td>7161</td>\n",
       "      <td>Beverly St / College St W</td>\n",
       "      <td>Member</td>\n",
       "      <td>2017-02-01</td>\n",
       "      <td>1</td>\n",
       "      <td>2</td>\n",
       "      <td>0</td>\n",
       "      <td>2</td>\n",
       "      <td>-1.2</td>\n",
       "      <td>0.4</td>\n",
       "    </tr>\n",
       "    <tr>\n",
       "      <th>1</th>\n",
       "      <td>761424</td>\n",
       "      <td>2017-02-01 00:02:00-05:00</td>\n",
       "      <td>1/2/2017 5:12</td>\n",
       "      <td>603</td>\n",
       "      <td>7164</td>\n",
       "      <td>Victoria St / Gould St (Ryerson University)</td>\n",
       "      <td>7161</td>\n",
       "      <td>Beverly St / College St W</td>\n",
       "      <td>Member</td>\n",
       "      <td>2017-02-01</td>\n",
       "      <td>1</td>\n",
       "      <td>2</td>\n",
       "      <td>0</td>\n",
       "      <td>2</td>\n",
       "      <td>5.0</td>\n",
       "      <td>19.8</td>\n",
       "    </tr>\n",
       "    <tr>\n",
       "      <th>2</th>\n",
       "      <td>761426</td>\n",
       "      <td>2017-02-01 00:05:00-05:00</td>\n",
       "      <td>1/2/2017 5:10</td>\n",
       "      <td>331</td>\n",
       "      <td>7025</td>\n",
       "      <td>Ted Rogers Way / Bloor St E</td>\n",
       "      <td>7055</td>\n",
       "      <td>Jarvis St / Carlton St</td>\n",
       "      <td>Member</td>\n",
       "      <td>2017-02-01</td>\n",
       "      <td>1</td>\n",
       "      <td>2</td>\n",
       "      <td>0</td>\n",
       "      <td>5</td>\n",
       "      <td>-1.2</td>\n",
       "      <td>0.4</td>\n",
       "    </tr>\n",
       "    <tr>\n",
       "      <th>3</th>\n",
       "      <td>761426</td>\n",
       "      <td>2017-02-01 00:05:00-05:00</td>\n",
       "      <td>1/2/2017 5:10</td>\n",
       "      <td>331</td>\n",
       "      <td>7025</td>\n",
       "      <td>Ted Rogers Way / Bloor St E</td>\n",
       "      <td>7055</td>\n",
       "      <td>Jarvis St / Carlton St</td>\n",
       "      <td>Member</td>\n",
       "      <td>2017-02-01</td>\n",
       "      <td>1</td>\n",
       "      <td>2</td>\n",
       "      <td>0</td>\n",
       "      <td>5</td>\n",
       "      <td>5.0</td>\n",
       "      <td>19.8</td>\n",
       "    </tr>\n",
       "    <tr>\n",
       "      <th>4</th>\n",
       "      <td>761427</td>\n",
       "      <td>2017-02-01 00:11:00-05:00</td>\n",
       "      <td>1/2/2017 5:19</td>\n",
       "      <td>436</td>\n",
       "      <td>7033</td>\n",
       "      <td>Union Station</td>\n",
       "      <td>7017</td>\n",
       "      <td>Widmer St / Adelaide St</td>\n",
       "      <td>Member</td>\n",
       "      <td>2017-02-01</td>\n",
       "      <td>1</td>\n",
       "      <td>2</td>\n",
       "      <td>0</td>\n",
       "      <td>11</td>\n",
       "      <td>-1.2</td>\n",
       "      <td>0.4</td>\n",
       "    </tr>\n",
       "  </tbody>\n",
       "</table>\n",
       "</div>"
      ],
      "text/plain": [
       "   trip_id           trip_start_time trip_stop_time  trip_duration_seconds  \\\n",
       "0   761424 2017-02-01 00:02:00-05:00  1/2/2017 5:12                    603   \n",
       "1   761424 2017-02-01 00:02:00-05:00  1/2/2017 5:12                    603   \n",
       "2   761426 2017-02-01 00:05:00-05:00  1/2/2017 5:10                    331   \n",
       "3   761426 2017-02-01 00:05:00-05:00  1/2/2017 5:10                    331   \n",
       "4   761427 2017-02-01 00:11:00-05:00  1/2/2017 5:19                    436   \n",
       "\n",
       "   from_station_id                            from_station_name  \\\n",
       "0             7164  Victoria St / Gould St (Ryerson University)   \n",
       "1             7164  Victoria St / Gould St (Ryerson University)   \n",
       "2             7025                  Ted Rogers Way / Bloor St E   \n",
       "3             7025                  Ted Rogers Way / Bloor St E   \n",
       "4             7033                                Union Station   \n",
       "\n",
       "   to_station_id            to_station_name user_type        Date  Day  Month  \\\n",
       "0           7161  Beverly St / College St W    Member  2017-02-01    1      2   \n",
       "1           7161  Beverly St / College St W    Member  2017-02-01    1      2   \n",
       "2           7055     Jarvis St / Carlton St    Member  2017-02-01    1      2   \n",
       "3           7055     Jarvis St / Carlton St    Member  2017-02-01    1      2   \n",
       "4           7017   Widmer St / Adelaide St     Member  2017-02-01    1      2   \n",
       "\n",
       "   start_hr  start_min  Mean_Temp  Total_Precip  \n",
       "0         0          2       -1.2           0.4  \n",
       "1         0          2        5.0          19.8  \n",
       "2         0          5       -1.2           0.4  \n",
       "3         0          5        5.0          19.8  \n",
       "4         0         11       -1.2           0.4  "
      ]
     },
     "execution_count": 19,
     "metadata": {},
     "output_type": "execute_result"
    }
   ],
   "source": [
    "# inner: use intersection of keys from both frames\n",
    "q1_weather = q1.merge(weather[['Date', 'Mean_Temp', 'Total_Precip']], on = 'Date', how = 'inner')\n",
    "\n",
    "# Total_Precip got ceoverted to char\n",
    "q1_weather['Total_Precip'] = pd.to_numeric(q1_weather['Total_Precip'])\n",
    "\n",
    "q1_weather.head()"
   ]
  },
  {
   "cell_type": "markdown",
   "metadata": {
    "slideshow": {
     "slide_type": "slide"
    }
   },
   "source": [
    "# Linear Regression\n",
    "\n",
    "\n",
    "A linear regression model is:\n",
    "\n",
    "$$y_i = \\beta_0 + \\beta_1 x_i + \\epsilon_i, \\mbox{} i=1, \\ldots, n$$\n",
    "\n",
    "$Y_i$ is trip duration, $x_i$ is the temperature, $n$ is the number of observations, and $\\epsilon \\sim N\\left(0,\\sigma^2\\right)$"
   ]
  },
  {
   "cell_type": "markdown",
   "metadata": {
    "slideshow": {
     "slide_type": "subslide"
    }
   },
   "source": [
    "# Linear Regression Statistical Assumptions\n",
    "\n",
    "1. For any value of $x$, $y$ is a $N\\left(\\beta_0 + \\beta_1 x, \\sigma^2 \\right)$ random variable.\n",
    "\n",
    "2. Independence: $y_1, \\ldots, y_n$ are statistically independent.\n",
    "\n",
    "3. Linearity: The mean value of $y$ is a linear function of $x$.\n",
    "\n",
    "4. Homoscedasticity: The variance of $y$ is the same for any $x$.\n"
   ]
  },
  {
   "cell_type": "markdown",
   "metadata": {
    "slideshow": {
     "slide_type": "slide"
    }
   },
   "source": [
    "# Estimating Regression Coefficients\n",
    "\n",
    "Estimates of the regression coefficients $\\beta_0, \\beta_1$ are obtained by minimizing:\n",
    "\n",
    "$$\\underset{\\beta_0, \\beta_1}{\\arg \\min} \\sum_{i=1}^n \\left(y_i- (\\beta_0 + \\beta_1 x_i) \\right)^2.$$\n",
    "\n",
    "Using calculus there are closed form expressions for the minimizers: $\\hat \\beta_0, \\hat \\beta_1.$\n",
    "\n",
    "The prediction for $y$ based on the $i^{th}$ value of $x$ is: $$\\hat y_i = \\hat \\beta_0 + \\hat \\beta_1x_i.$$\n",
    "\n",
    "$e_i = y_i-\\hat y_i$ is the $i^{th}$ residual, and the residual sum of squares is $$RSS=\\sum_{i=1}^n e_i^2.$$\n"
   ]
  },
  {
   "cell_type": "markdown",
   "metadata": {
    "slideshow": {
     "slide_type": "slide"
    }
   },
   "source": [
    "# Accuracy of Regression\n",
    "\n",
    "The accuracy of the regression coefficients can be evaluated by computing the standard errors of $\\hat \\beta_0, \\hat \\beta_1.$  \n",
    "\n",
    "$\\sigma^2$ can also be estimated by the formula $$RSE=\\frac{RSS}{n-2}.$$\n",
    "\n",
    "\n",
    "Standard errors can be used to test:\n",
    "\n",
    "$$H_0: \\text{There is no linear relationship between } x \\text{ and } y$$ \n",
    "vs.\n",
    "$$H_a: \\text{There is a linear relationship between } x \\text{ and } y$$ \n",
    "\n",
    "Which corresponds to testing:\n",
    "\n",
    "$$H_0: \\beta_1=0  \\hspace{0.5cm} \\mbox{vs.} \\hspace{0.25cm}H_a: \\beta_1 \\ne 0.$$ \n",
    "\n",
    "Tests and confidence intervals are based on:\n",
    "\n",
    "$$\\frac{\\hat \\beta_1}{SE\\left(\\hat \\beta_1 \\right)} \\sim t_{n-2}$$\n",
    "\n"
   ]
  },
  {
   "cell_type": "markdown",
   "metadata": {
    "slideshow": {
     "slide_type": "subslide"
    }
   },
   "source": [
    "# Accuracy of Model\n",
    "\n",
    "\n",
    "$$R^2 = 1- \\frac{\\sum_{i=1}^n (y_i-\\hat y_i)^2}{\\sum_{i=1}^n (y_i - \\bar y_i)^2}$$\n",
    "\n",
    "The proportion of variability in $y$ that can be explained by linear regression model of $y$ on $x$.\n",
    "\n"
   ]
  },
  {
   "cell_type": "markdown",
   "metadata": {
    "slideshow": {
     "slide_type": "slide"
    }
   },
   "source": [
    "# Simulated Data"
   ]
  },
  {
   "cell_type": "code",
   "execution_count": 21,
   "metadata": {
    "slideshow": {
     "slide_type": "slide"
    }
   },
   "outputs": [
    {
     "name": "stdout",
     "output_type": "stream",
     "text": [
      "                            OLS Regression Results                            \n",
      "==============================================================================\n",
      "Dep. Variable:                      y   R-squared:                       0.979\n",
      "Model:                            OLS   Adj. R-squared:                  0.979\n",
      "Method:                 Least Squares   F-statistic:                     4606.\n",
      "Date:                Mon, 23 Sep 2019   Prob (F-statistic):           3.37e-84\n",
      "Time:                        20:58:19   Log-Likelihood:                -21.034\n",
      "No. Observations:                 100   AIC:                             46.07\n",
      "Df Residuals:                      98   BIC:                             51.28\n",
      "Df Model:                           1                                         \n",
      "Covariance Type:            nonrobust                                         \n",
      "==============================================================================\n",
      "                 coef    std err          t      P>|t|      [0.025      0.975]\n",
      "------------------------------------------------------------------------------\n",
      "Intercept     -0.3691      0.088     -4.216      0.000      -0.543      -0.195\n",
      "x              0.9784      0.014     67.870      0.000       0.950       1.007\n",
      "==============================================================================\n",
      "Omnibus:                       35.399   Durbin-Watson:                   2.242\n",
      "Prob(Omnibus):                  0.000   Jarque-Bera (JB):                6.333\n",
      "Skew:                           0.119   Prob(JB):                       0.0421\n",
      "Kurtosis:                       1.790   Cond. No.                         18.0\n",
      "==============================================================================\n",
      "\n",
      "Warnings:\n",
      "[1] Standard Errors assume that the covariance matrix of the errors is correctly specified.\n",
      "\n",
      " RSE: 0.09\n"
     ]
    },
    {
     "data": {
      "text/plain": [
       "[<matplotlib.lines.Line2D at 0x118f55358>]"
      ]
     },
     "execution_count": 21,
     "metadata": {},
     "output_type": "execute_result"
    },
    {
     "data": {
      "image/png": "[encoded data removed]",
      "text/plain": [
       "<Figure size 432x288 with 1 Axes>"
      ]
     },
     "metadata": {
      "needs_background": "light"
     },
     "output_type": "display_data"
    }
   ],
   "source": [
    "import statsmodels.api as sm\n",
    "import statsmodels.formula.api as smf\n",
    "import numpy as np\n",
    "import matplotlib.pyplot as plt\n",
    "from scipy.stats import linregress\n",
    "\n",
    "np.random.seed(24)\n",
    "y = np.random.normal(5, 2, 100) #random sample of 100 from N(5,4)\n",
    "x = y + np.random.uniform(0,1,100) #add some random noise to y\n",
    "\n",
    "# store in pandas df\n",
    "data = pd.DataFrame({'y': y, 'x':x}) \n",
    "\n",
    "#use stats models ols using R like formulas\n",
    "Model = smf.ols(\"y ~ x\", data = data).fit()\n",
    "\n",
    "print(Model.summary())\n",
    "\n",
    "print('\\n RSE:', np.round(Model.ssr/Model.df_resid,2))\n",
    "\n",
    "# scatter plot x vs. y\n",
    "\n",
    "M = linregress(x, y) # get slope and intercept\n",
    "\n",
    "m = M.slope #slope\n",
    "b = M.intercept #intercept\n",
    "\n",
    "plt.scatter(x,y)\n",
    "plt.plot(x, m*x+b, color='red')"
   ]
  },
  {
   "cell_type": "markdown",
   "metadata": {
    "slideshow": {
     "slide_type": "slide"
    }
   },
   "source": [
    "# Back to Ridership Data ..."
   ]
  },
  {
   "cell_type": "code",
   "execution_count": 22,
   "metadata": {},
   "outputs": [
    {
     "data": {
      "text/html": [
       "<div>\n",
       "<style scoped>\n",
       "    .dataframe tbody tr th:only-of-type {\n",
       "        vertical-align: middle;\n",
       "    }\n",
       "\n",
       "    .dataframe tbody tr th {\n",
       "        vertical-align: top;\n",
       "    }\n",
       "\n",
       "    .dataframe thead th {\n",
       "        text-align: right;\n",
       "    }\n",
       "</style>\n",
       "<table border=\"1\" class=\"dataframe\">\n",
       "  <thead>\n",
       "    <tr style=\"text-align: right;\">\n",
       "      <th></th>\n",
       "      <th>Month</th>\n",
       "      <th>Day</th>\n",
       "      <th>user_type</th>\n",
       "      <th>dur</th>\n",
       "      <th>precip</th>\n",
       "      <th>temp</th>\n",
       "      <th>log_dur</th>\n",
       "      <th>log_precip</th>\n",
       "    </tr>\n",
       "  </thead>\n",
       "  <tbody>\n",
       "    <tr>\n",
       "      <th>0</th>\n",
       "      <td>2</td>\n",
       "      <td>1</td>\n",
       "      <td>Casual</td>\n",
       "      <td>2051.214286</td>\n",
       "      <td>10.1</td>\n",
       "      <td>1.90</td>\n",
       "      <td>7.626187</td>\n",
       "      <td>2.406945</td>\n",
       "    </tr>\n",
       "    <tr>\n",
       "      <th>1</th>\n",
       "      <td>2</td>\n",
       "      <td>1</td>\n",
       "      <td>Member</td>\n",
       "      <td>634.037274</td>\n",
       "      <td>10.1</td>\n",
       "      <td>1.90</td>\n",
       "      <td>6.452108</td>\n",
       "      <td>2.406945</td>\n",
       "    </tr>\n",
       "    <tr>\n",
       "      <th>2</th>\n",
       "      <td>2</td>\n",
       "      <td>2</td>\n",
       "      <td>Casual</td>\n",
       "      <td>1098.960000</td>\n",
       "      <td>0.0</td>\n",
       "      <td>-4.95</td>\n",
       "      <td>7.002120</td>\n",
       "      <td>0.000000</td>\n",
       "    </tr>\n",
       "    <tr>\n",
       "      <th>3</th>\n",
       "      <td>2</td>\n",
       "      <td>2</td>\n",
       "      <td>Member</td>\n",
       "      <td>601.788296</td>\n",
       "      <td>0.0</td>\n",
       "      <td>-4.95</td>\n",
       "      <td>6.399906</td>\n",
       "      <td>0.000000</td>\n",
       "    </tr>\n",
       "    <tr>\n",
       "      <th>4</th>\n",
       "      <td>2</td>\n",
       "      <td>3</td>\n",
       "      <td>Casual</td>\n",
       "      <td>1031.228571</td>\n",
       "      <td>0.1</td>\n",
       "      <td>-7.30</td>\n",
       "      <td>6.938506</td>\n",
       "      <td>0.095310</td>\n",
       "    </tr>\n",
       "  </tbody>\n",
       "</table>\n",
       "</div>"
      ],
      "text/plain": [
       "   Month  Day user_type          dur  precip  temp   log_dur  log_precip\n",
       "0      2    1    Casual  2051.214286    10.1  1.90  7.626187    2.406945\n",
       "1      2    1    Member   634.037274    10.1  1.90  6.452108    2.406945\n",
       "2      2    2    Casual  1098.960000     0.0 -4.95  7.002120    0.000000\n",
       "3      2    2    Member   601.788296     0.0 -4.95  6.399906    0.000000\n",
       "4      2    3    Casual  1031.228571     0.1 -7.30  6.938506    0.095310"
      ]
     },
     "execution_count": 22,
     "metadata": {},
     "output_type": "execute_result"
    }
   ],
   "source": [
    "# create a data frame for regression modelling\n",
    "Y = q1_weather.groupby(['Month','Day', 'user_type'])['trip_duration_seconds'].mean()\n",
    "X = q1_weather.groupby(['Month', 'Day', 'user_type'])['Total_Precip'].mean()\n",
    "X1 = q1_weather.groupby(['Month', 'Day', 'user_type'])['Mean_Temp'].mean()\n",
    "\n",
    "\n",
    "df = pd.DataFrame({'dur': Y, 'precip': X, 'temp':X1})\n",
    "df['log_dur']=df['dur'].transform(lambda x: np.log(x))\n",
    "df['log_precip']=df['precip'].transform(lambda x: np.log(x+1))\n",
    "\n",
    "df.reset_index(inplace=True)\n",
    "df.head()"
   ]
  },
  {
   "cell_type": "code",
   "execution_count": 23,
   "metadata": {},
   "outputs": [
    {
     "data": {
      "text/plain": [
       "<matplotlib.axes._subplots.AxesSubplot at 0x1c2044af98>"
      ]
     },
     "execution_count": 23,
     "metadata": {},
     "output_type": "execute_result"
    },
    {
     "data": {
      "image/png": "[encoded data removed]",
      "text/plain": [
       "<Figure size 432x288 with 1 Axes>"
      ]
     },
     "metadata": {
      "needs_background": "light"
     },
     "output_type": "display_data"
    }
   ],
   "source": [
    "df.plot.scatter(x='temp',y='dur')"
   ]
  },
  {
   "cell_type": "code",
   "execution_count": 24,
   "metadata": {},
   "outputs": [
    {
     "name": "stdout",
     "output_type": "stream",
     "text": [
      "                            OLS Regression Results                            \n",
      "==============================================================================\n",
      "Dep. Variable:                    dur   R-squared:                       0.024\n",
      "Model:                            OLS   Adj. R-squared:                  0.006\n",
      "Method:                 Least Squares   F-statistic:                     1.344\n",
      "Date:                Mon, 23 Sep 2019   Prob (F-statistic):              0.251\n",
      "Time:                        20:58:25   Log-Likelihood:                -442.48\n",
      "No. Observations:                  56   AIC:                             889.0\n",
      "Df Residuals:                      54   BIC:                             893.0\n",
      "Df Model:                           1                                         \n",
      "Covariance Type:            nonrobust                                         \n",
      "==============================================================================\n",
      "                 coef    std err          t      P>|t|      [0.025      0.975]\n",
      "------------------------------------------------------------------------------\n",
      "Intercept   1117.0848     89.634     12.463      0.000     937.380    1296.790\n",
      "temp          22.3621     19.289      1.159      0.251     -16.311      61.035\n",
      "==============================================================================\n",
      "Omnibus:                       31.514   Durbin-Watson:                   2.971\n",
      "Prob(Omnibus):                  0.000   Jarque-Bera (JB):               67.489\n",
      "Skew:                           1.748   Prob(JB):                     2.21e-15\n",
      "Kurtosis:                       7.087   Cond. No.                         4.69\n",
      "==============================================================================\n",
      "\n",
      "Warnings:\n",
      "[1] Standard Errors assume that the covariance matrix of the errors is correctly specified.\n"
     ]
    }
   ],
   "source": [
    "model = smf.ols(\"dur ~ temp\", data = df).fit()\n",
    "\n",
    "print(model.summary())"
   ]
  },
  {
   "cell_type": "markdown",
   "metadata": {
    "slideshow": {
     "slide_type": "slide"
    }
   },
   "source": [
    "# Another question ...\n",
    "\n",
    "Does the user type influence trip duration? "
   ]
  },
  {
   "cell_type": "code",
   "execution_count": 25,
   "metadata": {},
   "outputs": [
    {
     "data": {
      "image/png": "[encoded data removed]",
      "text/plain": [
       "<Figure size 432x288 with 1 Axes>"
      ]
     },
     "metadata": {
      "needs_background": "light"
     },
     "output_type": "display_data"
    },
    {
     "data": {
      "image/png": "[encoded data removed]",
      "text/plain": [
       "<Figure size 432x288 with 1 Axes>"
      ]
     },
     "metadata": {
      "needs_background": "light"
     },
     "output_type": "display_data"
    }
   ],
   "source": [
    "df.groupby('user_type')['dur'].mean().plot(kind='bar')\n",
    "\n",
    "fig, ax = plt.subplots()\n",
    "\n",
    "groups = df.groupby('user_type')\n",
    "\n",
    "ax.margins(0.05) # Optional, just adds 5% padding to the autoscaling\n",
    "for name, group in groups:\n",
    "    ax.plot(group.temp, group.dur, marker='o', linestyle='', ms=10, label=name)\n",
    "ax.legend()\n",
    "plt.show()"
   ]
  },
  {
   "cell_type": "markdown",
   "metadata": {
    "slideshow": {
     "slide_type": "slide"
    }
   },
   "source": [
    "# How do we interpret a qualitative predictor/feature?"
   ]
  },
  {
   "cell_type": "code",
   "execution_count": 26,
   "metadata": {},
   "outputs": [
    {
     "name": "stdout",
     "output_type": "stream",
     "text": [
      "                            OLS Regression Results                            \n",
      "==============================================================================\n",
      "Dep. Variable:                    dur   R-squared:                       0.503\n",
      "Model:                            OLS   Adj. R-squared:                  0.494\n",
      "Method:                 Least Squares   F-statistic:                     54.64\n",
      "Date:                Mon, 23 Sep 2019   Prob (F-statistic):           9.52e-10\n",
      "Time:                        20:58:31   Log-Likelihood:                -423.59\n",
      "No. Observations:                  56   AIC:                             851.2\n",
      "Df Residuals:                      54   BIC:                             855.2\n",
      "Df Model:                           1                                         \n",
      "Covariance Type:            nonrobust                                         \n",
      "==========================================================================================\n",
      "                             coef    std err          t      P>|t|      [0.025      0.975]\n",
      "------------------------------------------------------------------------------------------\n",
      "Intercept               1573.3672     89.770     17.527      0.000    1393.388    1753.346\n",
      "C(user_type)[T.Member]  -938.4410    126.955     -7.392      0.000   -1192.970    -683.912\n",
      "==============================================================================\n",
      "Omnibus:                       43.689   Durbin-Watson:                   1.977\n",
      "Prob(Omnibus):                  0.000   Jarque-Bera (JB):              215.288\n",
      "Skew:                           1.979   Prob(JB):                     1.78e-47\n",
      "Kurtosis:                      11.753   Cond. No.                         2.62\n",
      "==============================================================================\n",
      "\n",
      "Warnings:\n",
      "[1] Standard Errors assume that the covariance matrix of the errors is correctly specified.\n"
     ]
    }
   ],
   "source": [
    "model = smf.ols(\"dur ~ C(user_type)\", data = df).fit()\n",
    "\n",
    "print(model.summary())"
   ]
  },
  {
   "cell_type": "markdown",
   "metadata": {},
   "source": [
    "$$x_i =\n",
    "\\left\\{\n",
    "\t\\begin{array}{ll}\n",
    "\t\t1  & \\mbox{if } i^{th} \\mbox{person is member} \\\\\n",
    "\t\t0 & \\mbox{if } i^{th} \\mbox{person is casual}\n",
    "\t\\end{array}\n",
    "\\right.$$\n",
    "\n",
    "The regression equation becomes:\n",
    "\n",
    "$$ y_i = \\beta_0 + \\beta_1 x_i + \\epsilon_i = \\left\\{\n",
    "\t\\begin{array}{ll}\n",
    "\t\t\\beta_0 + \\beta_1 + \\epsilon_i  & \\mbox{if } i^{th} \\mbox{person is member} \\\\\n",
    "\t\t\\beta_0 + \\epsilon_i & \\mbox{if } i^{th} \\mbox{person is casual}\n",
    "\t\\end{array}\n",
    "\\right.$$\n",
    "\n",
    "$\\beta_0$ is the average duration among members, $\\beta_0+\\beta_1$ is the average duration among casual users, and $\\beta_1$ is the average difference in duration between members and casual users.  Testing $\\beta_1$ is equivalent to a two-sample t-test. "
   ]
  },
  {
   "cell_type": "code",
   "execution_count": 27,
   "metadata": {},
   "outputs": [
    {
     "data": {
      "text/plain": [
       "Ttest_indResult(statistic=-7.391939706681067, pvalue=9.515501058912983e-10)"
      ]
     },
     "execution_count": 27,
     "metadata": {},
     "output_type": "execute_result"
    }
   ],
   "source": [
    "df.groupby('user_type')['dur'].mean().diff()\n",
    "\n",
    "from scipy import stats\n",
    "\n",
    "stats.ttest_ind(df[df['user_type']=='Member']['dur'], df[df['user_type']=='Casual']['dur'])"
   ]
  },
  {
   "cell_type": "markdown",
   "metadata": {
    "slideshow": {
     "slide_type": "slide"
    }
   },
   "source": [
    "# Adjusting for more than one feature/predictor\n",
    "\n",
    "## Multiple Linear Regression\n",
    "\n",
    "Do temperature and user type predict trip duration? "
   ]
  },
  {
   "cell_type": "markdown",
   "metadata": {
    "slideshow": {
     "slide_type": "slide"
    }
   },
   "source": [
    "# Multiple Linear Regression\n",
    "\n",
    "$$y_i = \\beta_0 + \\beta_1x_{i1}+ \\cdots +  \\beta_1x_{ip} + \\epsilon_i, i= 1,\\ldots,n.$$\n",
    "\n",
    "In matrix form:\n",
    "\n",
    "$$Y=X\\beta+\\epsilon.$$\n",
    "\n",
    "$Y$ is an $n \\times 1$ column vector, $X$ is an $n \\times p$ matrix of rank $p$, and $\\epsilon$ is an $n \\times 1$ column vector that has a multivariate normal distribution."
   ]
  },
  {
   "cell_type": "code",
   "execution_count": 28,
   "metadata": {},
   "outputs": [
    {
     "name": "stdout",
     "output_type": "stream",
     "text": [
      "                            OLS Regression Results                            \n",
      "==============================================================================\n",
      "Dep. Variable:                    dur   R-squared:                       0.527\n",
      "Model:                            OLS   Adj. R-squared:                  0.509\n",
      "Method:                 Least Squares   F-statistic:                     29.55\n",
      "Date:                Mon, 23 Sep 2019   Prob (F-statistic):           2.39e-09\n",
      "Time:                        20:58:35   Log-Likelihood:                -422.19\n",
      "No. Observations:                  56   AIC:                             850.4\n",
      "Df Residuals:                      53   BIC:                             856.5\n",
      "Df Model:                           2                                         \n",
      "Covariance Type:            nonrobust                                         \n",
      "==========================================================================================\n",
      "                             coef    std err          t      P>|t|      [0.025      0.975]\n",
      "------------------------------------------------------------------------------------------\n",
      "Intercept               1586.3053     88.719     17.880      0.000    1408.357    1764.254\n",
      "C(user_type)[T.Member]  -938.4410    124.977     -7.509      0.000   -1189.113    -687.769\n",
      "temp                      22.3621     13.553      1.650      0.105      -4.822      49.546\n",
      "==============================================================================\n",
      "Omnibus:                       49.751   Durbin-Watson:                   2.043\n",
      "Prob(Omnibus):                  0.000   Jarque-Bera (JB):              299.615\n",
      "Skew:                           2.246   Prob(JB):                     8.70e-66\n",
      "Kurtosis:                      13.403   Cond. No.                         10.6\n",
      "==============================================================================\n",
      "\n",
      "Warnings:\n",
      "[1] Standard Errors assume that the covariance matrix of the errors is correctly specified.\n"
     ]
    }
   ],
   "source": [
    "model = smf.ols(\"dur ~ temp + C(user_type)\", data = df).fit()\n",
    "\n",
    "print(model.summary())"
   ]
  },
  {
   "cell_type": "code",
   "execution_count": 29,
   "metadata": {
    "slideshow": {
     "slide_type": "slide"
    }
   },
   "outputs": [
    {
     "data": {
      "text/plain": [
       "<seaborn.axisgrid.FacetGrid at 0x11bdc15c0>"
      ]
     },
     "execution_count": 29,
     "metadata": {},
     "output_type": "execute_result"
    },
    {
     "data": {
      "image/png": "[encoded data removed]",
      "text/plain": [
       "<Figure size 436.875x360 with 1 Axes>"
      ]
     },
     "metadata": {
      "needs_background": "light"
     },
     "output_type": "display_data"
    }
   ],
   "source": [
    "import seaborn as sns\n",
    "import warnings\n",
    "warnings.filterwarnings('ignore')\n",
    "\n",
    "sns.lmplot(y = 'dur', x = 'temp', hue = 'user_type', data = df)"
   ]
  },
  {
   "cell_type": "code",
   "execution_count": 30,
   "metadata": {},
   "outputs": [
    {
     "name": "stdout",
     "output_type": "stream",
     "text": [
      "                            OLS Regression Results                            \n",
      "==============================================================================\n",
      "Dep. Variable:                    dur   R-squared:                       0.549\n",
      "Model:                            OLS   Adj. R-squared:                  0.523\n",
      "Method:                 Least Squares   F-statistic:                     21.09\n",
      "Date:                Mon, 23 Sep 2019   Prob (F-statistic):           4.49e-09\n",
      "Time:                        20:58:39   Log-Likelihood:                -420.87\n",
      "No. Observations:                  56   AIC:                             849.7\n",
      "Df Residuals:                      52   BIC:                             857.8\n",
      "Df Model:                           3                                         \n",
      "Covariance Type:            nonrobust                                         \n",
      "===============================================================================================\n",
      "                                  coef    std err          t      P>|t|      [0.025      0.975]\n",
      "-----------------------------------------------------------------------------------------------\n",
      "Intercept                    1598.5355     87.830     18.200      0.000    1422.292    1774.779\n",
      "C(user_type)[T.Member]       -962.9014    124.210     -7.752      0.000   -1212.147    -713.656\n",
      "temp                           43.5007     18.901      2.302      0.025       5.573      81.428\n",
      "temp:C(user_type)[T.Member]   -42.2772     26.730     -1.582      0.120     -95.915      11.361\n",
      "==============================================================================\n",
      "Omnibus:                       55.441   Durbin-Watson:                   1.993\n",
      "Prob(Omnibus):                  0.000   Jarque-Bera (JB):              423.455\n",
      "Skew:                           2.477   Prob(JB):                     1.12e-92\n",
      "Kurtosis:                      15.527   Cond. No.                         12.3\n",
      "==============================================================================\n",
      "\n",
      "Warnings:\n",
      "[1] Standard Errors assume that the covariance matrix of the errors is correctly specified.\n"
     ]
    }
   ],
   "source": [
    "model = smf.ols(\"dur ~ temp + C(user_type) + temp:C(user_type)\", data = df).fit()\n",
    "\n",
    "print(model.summary())"
   ]
  },
  {
   "cell_type": "markdown",
   "metadata": {
    "slideshow": {
     "slide_type": "slide"
    }
   },
   "source": [
    "# Linear Regression as a Machine Learning Algorithm\n",
    "\n",
    "0. Select a training and test\n",
    "\n",
    "1. Fit a linear regression model on the training set.\n",
    "\n",
    "2. Use the model in 1. to predict the dependent variable in the test set.\n",
    "\n",
    "3. Calculate a measure of fit on the test and training to evaluate the quality of fit.  For example, the mean squared error is:\n",
    "\n",
    "$$MSE =\\frac{1}{n} \\sum_{i=1}^n e_i^2$$\n",
    "\n",
    "\n",
    "\n"
   ]
  },
  {
   "cell_type": "code",
   "execution_count": 31,
   "metadata": {},
   "outputs": [
    {
     "name": "stdout",
     "output_type": "stream",
     "text": [
      "Training Data Shape: (42, 9) \n",
      "Test Data Shape: (14, 9) (56, 9)\n",
      "Test Mean squared error: 134022.03\n",
      "Train Mean squared error: 228741.78\n"
     ]
    }
   ],
   "source": [
    "from sklearn import linear_model\n",
    "from sklearn.metrics import mean_squared_error, r2_score\n",
    "\n",
    "# casual is 1 and member is 0\n",
    "\n",
    "df['user_type_Casual'] = pd.get_dummies(df, columns = ['user_type'])['user_type_Casual']\n",
    "\n",
    "np.random.seed(24)\n",
    "df_train = df.sample(frac = 0.75) # 75% data is random sample to train \n",
    "df_test = df.drop(index = df_train.index) #25% test\n",
    "print('Training Data Shape:', df_train.shape, '\\nTest Data Shape:', df_test.shape, df.shape) # check df shape\n",
    "\n",
    "df_train_X = df_train[['precip', 'temp', 'user_type_Casual']] #training features\n",
    "df_train_Y = df_train[['dur']] #training dependent variable\n",
    "\n",
    "df_test_X = df_test[['precip', 'temp', 'user_type_Casual']] #test features\n",
    "df_test_Y = df_test[['dur']] #test dependent variable \n",
    "\n",
    "# create linear regression object\n",
    "regr = linear_model.LinearRegression()\n",
    "\n",
    "# train the model\n",
    "regr.fit(df_train_X, df_train_Y)\n",
    "\n",
    "# predict using test set\n",
    "df_Y_pred = regr.predict(df_test_X)\n",
    "\n",
    "# predict using training set\n",
    "df_Y_pred_train = regr.predict(df_train_X)\n",
    "\n",
    "print(\"Test Mean squared error: %.2f\" % mean_squared_error(df_test_Y, df_Y_pred))\n",
    "\n",
    "print(\"Train Mean squared error: %.2f\" % mean_squared_error(df_train_Y, df_Y_pred_train))\n"
   ]
  }
 ],
 "metadata": {
  "celltoolbar": "Slideshow",
  "hide_input": false,
  "kernelspec": {
   "display_name": "Python 3",
   "language": "python",
   "name": "python3"
  },
  "language_info": {
   "codemirror_mode": {
    "name": "ipython",
    "version": 3
   },
   "file_extension": ".py",
   "mimetype": "text/x-python",
   "name": "python",
   "nbconvert_exporter": "python",
   "pygments_lexer": "ipython3",
   "version": "3.7.1"
  }
 },
 "nbformat": 4,
 "nbformat_minor": 2
}
