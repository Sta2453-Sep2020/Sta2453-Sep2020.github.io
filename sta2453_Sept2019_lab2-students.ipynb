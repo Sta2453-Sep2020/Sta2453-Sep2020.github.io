{
 "cells": [
  {
   "cell_type": "markdown",
   "metadata": {},
   "source": [
    "# Toronto Bike Share \n",
    "\n",
    "## Questions\n",
    "\n",
    "### Due: Oct. 9, 9:30\n",
    "\n",
    "Use the 2016 Q3, 2016 Q4, and 2017 Toronto Bikeshare ridership data available at https://open.toronto.ca/dataset/bike-share-toronto-ridership-data/ to answer the following questions. \n",
    "\n",
    "Station information, including real time data, is available at https://open.toronto.ca/dataset/bike-share-toronto/.\n",
    "\n",
    "A [blog post](https://towardsdatascience.com/exploring-toronto-bike-share-ridership-using-python-3dc87d35cb62) was written on the 2017 data set. \n",
    "\n",
    "Use Python in a Jupyter notebook to answer the following questions.  In all of the questions below interpret your results, and identify limitations.\n",
    "\n",
    "0. Read through the questions below.  (i) Create a brief plan of the variables that you plan to use to answer these questions, (ii) explore the variables using quantitative and visual methods, and (iii) rectify any inconsistencies you find through exploration.\n",
    "\n",
    "1. Do casual users take shorter trips compared to members?  Is it possible to identify if bikes are being used by tourists or residents?\n",
    "\n",
    "2. Does season or weather affect trip duration or distance?\n",
    "\n",
    "3. (a) Define trip length in two ways, and create a variables in the data set.  (b) What factors affect trip length?  Do these factors differ depending on your definition?\n",
    "\n",
    "4. Use linear regression to build a prediction model of trip length."
   ]
  },
  {
   "cell_type": "markdown",
   "metadata": {},
   "source": [
    "# Instructions\n",
    "\n",
    "Answer each question by creating Markdown and Code cells."
   ]
  },
  {
   "cell_type": "code",
   "execution_count": null,
   "metadata": {},
   "outputs": [],
   "source": []
  }
 ],
 "metadata": {
  "hide_input": false,
  "kernelspec": {
   "display_name": "Python 3",
   "language": "python",
   "name": "python3"
  },
  "language_info": {
   "codemirror_mode": {
    "name": "ipython",
    "version": 3
   },
   "file_extension": ".py",
   "mimetype": "text/x-python",
   "name": "python",
   "nbconvert_exporter": "python",
   "pygments_lexer": "ipython3",
   "version": "3.7.1"
  }
 },
 "nbformat": 4,
 "nbformat_minor": 2
}
